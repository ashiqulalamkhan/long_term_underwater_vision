{
 "cells": [
  {
   "cell_type": "code",
   "execution_count": null,
   "metadata": {
    "collapsed": true
   },
   "outputs": [],
   "source": [
    "from torchvision import transforms\n",
    "from torchvision import datasets\n",
    "import pytorch_lightning as pl\n",
    "from torchvision.io import read_image\n",
    "import os\n",
    "from torch.utils.data import Dataset"
   ]
  },
  {
   "cell_type": "code",
   "execution_count": null,
   "outputs": [],
   "source": [
    "class CustomImageDataset(Dataset):\n",
    "    def __init__(self,img_dir,img_target,transform=None):\n",
    "        self.img_dir = img_dir\n",
    "        self.img_labels = img_target\n",
    "        self.transform = transform\n",
    "    def __len__(self):\n",
    "        return len(self.img_labels)\n",
    "    def __getitem__(self, idx):\n",
    "        img_path = os.path.join(self.img_dir, self.img_labels.iloc[idx, 0])\n",
    "        image = read_image(img_path)\n",
    "        label = self.img_labels.iloc[idx, 1]\n",
    "        if self.transform:\n",
    "            image = self.transform(image)\n",
    "        return image, label"
   ],
   "metadata": {
    "collapsed": false
   }
  },
  {
   "cell_type": "code",
   "execution_count": null,
   "outputs": [],
   "source": [
    "class CustomDataModule(pl.LightningDataModule):\n",
    "    def __init__(self, batch_size=32):\n",
    "        self.batch_size = batch_size\n",
    "    def setup(self):\n",
    "        transform = transforms.Compose([transforms.ToTensor()])\n",
    "        custom_train = dataset"
   ],
   "metadata": {
    "collapsed": false
   }
  },
  {
   "cell_type": "code",
   "execution_count": 9,
   "outputs": [],
   "source": [
    "#Rotation translation quarternions\n",
    "from scipy.spatial.transform import Rotation\n",
    "import numpy as np\n",
    "x, y, z = 5.6619227716, 196.7418436782, 37.6688467098\n",
    "x_rot, y_rot, z_rot = 0.027930385, -0.0055985606, -3.0191553214\n",
    "#Rotation Mat for rot_vec\n",
    "r = Rotation.from_rotvec(np.asarray([x_rot,y_rot,z_rot]))\n",
    "#rot_mat to Quat_vec:\n",
    "quat_vec = r.as_quat()\n",
    "#rot_mat from quat_vec:\n",
    "rot_mat = Rotation.from_quat(quat_vec)\n",
    "rot_mat.as_rotvec()"
   ],
   "metadata": {
    "collapsed": false
   }
  },
  {
   "cell_type": "code",
   "execution_count": 24,
   "outputs": [
    {
     "data": {
      "text/plain": "1258"
     },
     "execution_count": 24,
     "metadata": {},
     "output_type": "execute_result"
    }
   ],
   "source": [
    "import pandas as pd\n",
    "df =pd.read_csv(\"keypointdata.csv\")\n",
    "df_new = df.drop_duplicates(subset=[\"left_image_name\"])\n",
    "image_id = [list(row) for row in df_new.values]\n",
    "len(image_id)"
   ],
   "metadata": {
    "collapsed": false
   }
  },
  {
   "cell_type": "code",
   "execution_count": 28,
   "outputs": [
    {
     "data": {
      "text/plain": "'PR_20081006_232441_396_LC16_001'"
     },
     "execution_count": 28,
     "metadata": {},
     "output_type": "execute_result"
    }
   ],
   "source": [
    "image_id[0][0]"
   ],
   "metadata": {
    "collapsed": false
   }
  },
  {
   "cell_type": "code",
   "execution_count": null,
   "outputs": [],
   "source": [],
   "metadata": {
    "collapsed": false
   }
  }
 ],
 "metadata": {
  "kernelspec": {
   "display_name": "Python 3",
   "language": "python",
   "name": "python3"
  },
  "language_info": {
   "codemirror_mode": {
    "name": "ipython",
    "version": 2
   },
   "file_extension": ".py",
   "mimetype": "text/x-python",
   "name": "python",
   "nbconvert_exporter": "python",
   "pygments_lexer": "ipython2",
   "version": "2.7.6"
  }
 },
 "nbformat": 4,
 "nbformat_minor": 0
}
