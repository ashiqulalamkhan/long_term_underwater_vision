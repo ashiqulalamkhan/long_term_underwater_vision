{
 "cells": [
  {
   "cell_type": "code",
   "execution_count": 1,
   "outputs": [
    {
     "name": "stdout",
     "output_type": "stream",
     "text": [
      "Jupyter environment detected. Enabling Open3D WebVisualizer.\n",
      "[Open3D INFO] WebRTC GUI backend enabled.\n",
      "[Open3D INFO] WebRTCWindowSystem: HTTP handshake server disabled.\n"
     ]
    }
   ],
   "source": [
    "import cupy as cp\n",
    "from scipy.spatial.transform import Rotation as R\n",
    "import numpy as np\n",
    "import copy\n",
    "import time\n",
    "import matplotlib.pyplot as plt\n",
    "import open3d as o3d\n",
    "import utm"
   ],
   "metadata": {
    "collapsed": false
   }
  },
  {
   "cell_type": "code",
   "execution_count": 3,
   "outputs": [
    {
     "data": {
      "text/plain": "[10 5 5]\nTensor[shape={3}, stride={1}, Int64, CPU:0, 0x5d2c080]"
     },
     "execution_count": 3,
     "metadata": {},
     "output_type": "execute_result"
    }
   ],
   "source": [
    "o3d.core.Tensor(np.asarray([10,5,5]))"
   ],
   "metadata": {
    "collapsed": false
   }
  },
  {
   "cell_type": "code",
   "execution_count": null,
   "outputs": [],
   "source": [
    "pcd_14 = o3d.io.read_point_cloud(\"/home/turin/Desktop/lizard_dataset_curated/2014/pcd14.pcd\")\n",
    "pcd_15 = o3d.io.read_point_cloud(\"/home/turin/Desktop/lizard_dataset_curated/2015/pcd15.pcd\")\n",
    "pcd_14_cp = copy.deepcopy(pcd_14)\n",
    "pcd_15_cp = copy.deepcopy(pcd_15)\n",
    "r = R.from_rotvec([np.pi / 9, 0, np.pi / 6])\n",
    "rot_mat = r.as_matrix().reshape(3, 3)\n",
    "pcd_14_cp.translate(np.asarray([1.12, 1.55, -1.1]))\n",
    "pcd_14_cp.rotate(rot_mat, center=pcd_14_cp.get_center())\n",
    "pcd_14_cp.scale(scale=1.1, center=pcd_14_cp.get_center())"
   ],
   "metadata": {
    "collapsed": false
   }
  },
  {
   "cell_type": "code",
   "execution_count": 4,
   "outputs": [
    {
     "name": "stdout",
     "output_type": "stream",
     "text": [
      ":: Load two point clouds with initial pose.\n",
      ":: Downsample with a voxel size 0.100.\n",
      ":: Estimate normal with search radius 0.200.\n",
      ":: Compute FPFH feature with search radius 0.300.\n",
      ":: Downsample with a voxel size 0.100.\n",
      ":: Estimate normal with search radius 0.200.\n",
      ":: Compute FPFH feature with search radius 0.300.\n"
     ]
    },
    {
     "data": {
      "text/plain": "PointCloud with 42312642 points."
     },
     "execution_count": 4,
     "metadata": {},
     "output_type": "execute_result"
    }
   ],
   "source": [
    "#FAST GLOBAL TRANSFORMATION\n",
    "start = time.time()\n",
    "voxel_size = 0.1  # 0.05 means 5cm for this dataset\n",
    "source, target, source_down, target_down, source_fpfh, target_fpfh = prepare_dataset(pcd_14_cp, pcd_15_cp,\n",
    "    voxel_size)\n",
    "\n",
    "# result_fast = execute_fast_global_registration(source_down, target_down,\n",
    "#                                                source_fpfh, target_fpfh,\n",
    "#                                                voxel_size)\n",
    "# print(\"Fast global registration took %.3f sec.\\n\" % (time.time() - start))\n",
    "# print(result_fast)\n",
    "# result_fast.transformation\n",
    "# draw_registration_result(source, target, result_fast.transformation)\n",
    "\n",
    "result = o3d.pipelines.registration.registration_ransac_based_on_feature_matching(\n",
    "        source_down,\n",
    "        target_down,\n",
    "        source_fpfh,\n",
    "        target_fpfh,\n",
    "        mutual_filter=True,\n",
    "        max_correspondence_distance=8.5*.1,\n",
    "        estimation_method=o3d.pipelines.registration.\n",
    "        TransformationEstimationPointToPoint(True),\n",
    "        ransac_n=3,\n",
    "        checkers=[\n",
    "            o3d.pipelines.registration.CorrespondenceCheckerBasedOnEdgeLength(\n",
    "                0.9),\n",
    "            o3d.pipelines.registration.CorrespondenceCheckerBasedOnDistance(\n",
    "                8.5*.1)\n",
    "        ],\n",
    "        criteria=o3d.pipelines.registration.RANSACConvergenceCriteria(1000000, 0.9999))\n",
    "source.paint_uniform_color([1, 0, 0])\n",
    "target.paint_uniform_color([0, 1, 0])\n",
    "#o3d.visualization.draw([source.transform(result.transformation), target])"
   ],
   "metadata": {
    "collapsed": false
   }
  },
  {
   "cell_type": "markdown",
   "source": [],
   "metadata": {
    "collapsed": false
   }
  },
  {
   "cell_type": "code",
   "execution_count": 5,
   "outputs": [
    {
     "name": "stdout",
     "output_type": "stream",
     "text": [
      "[Open3D INFO] Window window_0 created.\n",
      "[Open3D INFO] EGL headless mode enabled.\n",
      "[Open3D INFO] ICE servers: {\"stun:stun.l.google.com:19302\", \"turn:user:password@34.69.27.100:3478\", \"turn:user:password@34.69.27.100:3478?transport=tcp\"}\n",
      "[Open3D INFO] Set WEBRTC_STUN_SERVER environment variable add a customized WebRTC STUN server.\n",
      "[Open3D INFO] WebRTC Jupyter handshake mode enabled.\n"
     ]
    },
    {
     "ename": "KeyboardInterrupt",
     "evalue": "",
     "output_type": "error",
     "traceback": [
      "\u001B[0;31m---------------------------------------------------------------------------\u001B[0m",
      "\u001B[0;31mKeyboardInterrupt\u001B[0m                         Traceback (most recent call last)",
      "Cell \u001B[0;32mIn[5], line 1\u001B[0m\n\u001B[0;32m----> 1\u001B[0m \u001B[43mo3d\u001B[49m\u001B[38;5;241;43m.\u001B[39;49m\u001B[43mvisualization\u001B[49m\u001B[38;5;241;43m.\u001B[39;49m\u001B[43mdraw\u001B[49m\u001B[43m(\u001B[49m\u001B[43m[\u001B[49m\u001B[43msource\u001B[49m\u001B[38;5;241;43m.\u001B[39;49m\u001B[43mtransform\u001B[49m\u001B[43m(\u001B[49m\u001B[43mresult\u001B[49m\u001B[38;5;241;43m.\u001B[39;49m\u001B[43mtransformation\u001B[49m\u001B[43m)\u001B[49m\u001B[43m,\u001B[49m\u001B[43m \u001B[49m\u001B[43mtarget\u001B[49m\u001B[43m]\u001B[49m\u001B[43m)\u001B[49m\n",
      "File \u001B[0;32m~/.local/lib/python3.9/site-packages/open3d/visualization/draw.py:127\u001B[0m, in \u001B[0;36mdraw\u001B[0;34m(geometry, title, width, height, actions, lookat, eye, up, field_of_view, bg_color, bg_image, ibl, ibl_intensity, show_skybox, show_ui, raw_mode, point_size, line_width, animation_time_step, animation_duration, rpc_interface, on_init, on_animation_frame, on_animation_tick, non_blocking_and_return_uid)\u001B[0m\n\u001B[1;32m    125\u001B[0m     \u001B[38;5;28;01mreturn\u001B[39;00m w\u001B[38;5;241m.\u001B[39muid\n\u001B[1;32m    126\u001B[0m \u001B[38;5;28;01melse\u001B[39;00m:\n\u001B[0;32m--> 127\u001B[0m     \u001B[43mgui\u001B[49m\u001B[38;5;241;43m.\u001B[39;49m\u001B[43mApplication\u001B[49m\u001B[38;5;241;43m.\u001B[39;49m\u001B[43minstance\u001B[49m\u001B[38;5;241;43m.\u001B[39;49m\u001B[43mrun\u001B[49m\u001B[43m(\u001B[49m\u001B[43m)\u001B[49m\n",
      "\u001B[0;31mKeyboardInterrupt\u001B[0m: "
     ]
    }
   ],
   "source": [
    "o3d.visualization.draw([source.transform(result.transformation), target])"
   ],
   "metadata": {
    "collapsed": false
   }
  },
  {
   "cell_type": "code",
   "execution_count": 11,
   "outputs": [
    {
     "name": "stdout",
     "output_type": "stream",
     "text": [
      "[[-9.36799159e-01  1.81132811e-01 -3.35130476e-02  8.35992386e+01]\n",
      " [ 1.51348057e-01  8.55860735e-01  3.95121566e-01  8.54880374e-01]\n",
      " [ 1.05004691e-01  3.82384873e-01 -8.68493355e-01 -3.17422027e+01]\n",
      " [ 0.00000000e+00  0.00000000e+00  0.00000000e+00  1.00000000e+00]]\n"
     ]
    }
   ],
   "source": [
    "#target.transform(result.transformation)\n",
    "print(result.transformation)\n",
    "draw_registration_result(pcd_14_cp,pcd_14,result.transformation)"
   ],
   "metadata": {
    "collapsed": false
   }
  },
  {
   "cell_type": "code",
   "execution_count": null,
   "outputs": [],
   "source": [
    " ##PLY TO PCD\n",
    "# source_to_pcd = o3d.io.read_point_cloud(\"/home/turin/Desktop/lizard_dataset_curated/old_dataset_coral/cur_cas_05m_20190401_dec7M.ply\")\n",
    "# o3d.io.write_point_cloud(\"/home/turin/Desktop/lizard_dataset_curated/source.pcd\", source_to_pcd)\n",
    "pcd_14 = o3d.io.read_point_cloud(\"/home/turin/Desktop/lizard_dataset_curated/2014/pcd14.pcd\")\n",
    "pcd_15 = o3d.io.read_point_cloud(\"/home/turin/Desktop/lizard_dataset_curated/2015/pcd15.pcd\")\n",
    "# pcd_16 = o3d.io.read_point_cloud(\"/home/turin/Desktop/lizard_dataset_curated/2016/pcd16.pcd\")\n",
    "pcd_14_cp = copy.deepcopy(pcd_14)\n",
    "pcd_15_cp = copy.deepcopy(pcd_15)\n",
    "# pcd_16_cp = copy.deepcopy(pcd_16)"
   ],
   "metadata": {
    "collapsed": false
   }
  },
  {
   "cell_type": "code",
   "execution_count": null,
   "outputs": [],
   "source": [],
   "metadata": {
    "collapsed": false
   }
  },
  {
   "cell_type": "code",
   "execution_count": null,
   "outputs": [],
   "source": [],
   "metadata": {
    "collapsed": false
   }
  },
  {
   "cell_type": "code",
   "execution_count": null,
   "outputs": [],
   "source": [
    "draw_registration_result(pcd_14_cp, pcd_15_cp, np.identity(4))"
   ],
   "metadata": {
    "collapsed": false
   }
  },
  {
   "cell_type": "code",
   "execution_count": null,
   "outputs": [],
   "source": [
    "dist_error = pcd_15_cp.compute_point_cloud_distance(pcd_14_cp)"
   ],
   "metadata": {
    "collapsed": false
   }
  },
  {
   "cell_type": "code",
   "execution_count": null,
   "outputs": [],
   "source": [
    "from scipy.spatial.transform import Rotation as R\n",
    "# r = R.from_rotvec([np.pi/6,np.pi/6,np.pi/6])\n",
    "r = R.from_rotvec([np.pi/9,0,np.pi/6])\n",
    "rot_mat = r.as_matrix().reshape(3,3)\n",
    "# trans_mat = np.asarray([0.25,0.91,0.77]).reshape(3,1)\n",
    "# transform_mat = np.vstack((np.hstack((rot_mat,trans_mat)), [0,0,0,1]))#Transfor mat with trans and rot mat\n",
    "# transform = np.matmul(transform_mat, np.diag(np.full(4,.75))) ## Scaling\n",
    "# print(transform_mat)\n",
    "pcd_14_cp = copy.deepcopy(pcd_14)\n",
    "pcd_14_cp.translate(np.asarray([1.12,1.55,-1.1]))\n",
    "pcd_14_cp.rotate(rot_mat, center = pcd_14.get_center())\n",
    "pcd_14_cp.scale(scale = 1.5, center = pcd_14.get_center())\n",
    "o3d.visualization.draw_geometries([pcd_14,pcd_14_cp])\n",
    "#draw_registration_result(pcd_14, pcd_14_cp, trans_init)"
   ],
   "metadata": {
    "collapsed": false
   }
  },
  {
   "cell_type": "code",
   "execution_count": null,
   "outputs": [],
   "source": [
    "error_fast = []\n",
    "for x in range(len(dist_error)):\n",
    "    error_fast.append(dist_error[x])"
   ],
   "metadata": {
    "collapsed": false
   }
  },
  {
   "cell_type": "code",
   "execution_count": null,
   "outputs": [],
   "source": [
    "start = time.time()\n",
    "hist, bin = np.histogram(error_fast, 1000)\n",
    "#hist = cp.asarray(hist.get())\n",
    "#bin = cp.asarray(bin.get())\n",
    "plt.bar(bin[:-1] + np.diff(bin) / 2, hist, np.diff(bin))\n",
    "# _ = plt.hist(error_fast, bins=1000)\n",
    "plt.xlabel(\"Error in meters(for 1000 bins)\")\n",
    "plt.ylabel(\"number of cloud point\")\n",
    "plt.yscale(\"log\")\n",
    "plt.show()\n",
    "\n",
    "plt.bar(bin[:-1] + np.diff(bin) / 2, hist, np.diff(bin))\n",
    "# _ = plt.hist(error_fast, bins=1000)\n",
    "plt.xlabel(\"Error in meters(for 1000 bins)\")\n",
    "plt.ylabel(\"number of cloud point\")\n",
    "plt.show()\n",
    "\n",
    "\n",
    "\n",
    "print(\"took %.3f sec.\\n\" % (time.time() - start))"
   ],
   "metadata": {
    "collapsed": false
   }
  },
  {
   "cell_type": "code",
   "execution_count": null,
   "outputs": [],
   "source": [
    "dist_error = pcd_15_cp.compute_point_cloud_distance(pcd_14_cp)\n",
    "error_fast = []\n",
    "for x in range(len(dist_error)):\n",
    "    error_fast.append(dist_error[x])\n",
    "print(len(error_fast))\n",
    "_ = plt.hist(error_fast, bins=1000)\n",
    "plt.xlabel(\"Error in meters(for 1000 bins)\")\n",
    "plt.ylabel(\"number of cloud point\")\n",
    "plt.show()"
   ],
   "metadata": {
    "collapsed": false
   }
  },
  {
   "cell_type": "code",
   "execution_count": null,
   "outputs": [],
   "source": [
    "_ = plt.hist(error_fast, bins=1000)\n",
    "plt.xlabel(\"Error in meters(for 1000 bins)\")\n",
    "plt.ylabel(\"number of cloud point in Log10 Scale\")\n",
    "plt.yscale(\"log\")\n",
    "plt.show()"
   ],
   "metadata": {
    "collapsed": false
   }
  },
  {
   "cell_type": "code",
   "execution_count": null,
   "outputs": [],
   "source": [
    "error_init = error_fast\n",
    "max(error_init), min(error_init),sum(error_init)/len(error_init)"
   ],
   "metadata": {
    "collapsed": false
   }
  },
  {
   "cell_type": "code",
   "execution_count": null,
   "outputs": [],
   "source": [
    "def draw_registration_result(source, target, transformation):\n",
    "    source_temp = copy.deepcopy(source)\n",
    "    target_temp = copy.deepcopy(target)\n",
    "    source_temp.paint_uniform_color([1, 0.706, 0])\n",
    "    target_temp.paint_uniform_color([0, 0.651, 0.929])\n",
    "    source_temp.transform(transformation)\n",
    "    o3d.visualization.draw_geometries([source_temp, target_temp])\n",
    "\n",
    "def preprocess_point_cloud(pcd, voxel_size):\n",
    "    print(\":: Downsample with a voxel size %.3f.\" % voxel_size)\n",
    "    pcd_down = pcd.voxel_down_sample(voxel_size)\n",
    "\n",
    "    radius_normal = voxel_size * 2\n",
    "    print(\":: Estimate normal with search radius %.3f.\" % radius_normal)\n",
    "    pcd_down.estimate_normals(\n",
    "        o3d.geometry.KDTreeSearchParamHybrid(radius=radius_normal, max_nn=30))\n",
    "\n",
    "    radius_feature = voxel_size * 3\n",
    "    print(\":: Compute FPFH feature with search radius %.3f.\" % radius_feature)\n",
    "    pcd_fpfh = o3d.pipelines.registration.compute_fpfh_feature(\n",
    "        pcd_down,\n",
    "        o3d.geometry.KDTreeSearchParamHybrid(radius=radius_feature, max_nn=100))\n",
    "    return pcd_down, pcd_fpfh\n",
    "\n",
    "def prepare_dataset(source, target, voxel_size):\n",
    "    print(\":: Load two point clouds with initial pose.\")\n",
    "    # trans_init = np.asarray([[1.0, 0.0, 0.0, 0.0], [0.0, 1.0, 0.0, 0.0],\n",
    "    #                          [0.0, 0.0, 1.0, 0.0], [0.0, 0.0, 0.0, 1.0]])\n",
    "    # source.transform(trans_init)\n",
    "    draw_registration_result(source, target, np.identity(4))\n",
    "\n",
    "    source_down, source_fpfh = preprocess_point_cloud(source, voxel_size)\n",
    "    target_down, target_fpfh = preprocess_point_cloud(target, voxel_size)\n",
    "    return source, target, source_down, target_down, source_fpfh, target_fpfh\n",
    "\n",
    "def execute_fast_global_registration(source_down, target_down, source_fpfh,\n",
    "                                     target_fpfh, voxel_size):\n",
    "    distance_threshold = voxel_size * 1.5\n",
    "    print(\":: Apply fast global registration with distance threshold %.3f\" \\\n",
    "            % distance_threshold)\n",
    "    result = o3d.pipelines.registration.registration_fgr_based_on_feature_matching(\n",
    "        source_down, target_down, source_fpfh, target_fpfh,\n",
    "        o3d.pipelines.registration.FastGlobalRegistrationOption(\n",
    "            maximum_correspondence_distance=distance_threshold))\n",
    "    return result"
   ],
   "metadata": {
    "collapsed": false
   }
  },
  {
   "cell_type": "code",
   "execution_count": null,
   "outputs": [],
   "source": [
    "#FAST GLOBAL TRANSFORMATION\n",
    "start = time.time()\n",
    "voxel_size = 0.1  # 0.05 means 5cm for this dataset\n",
    "source, target, source_down, target_down, source_fpfh, target_fpfh = prepare_dataset(pcd_14_cp, pcd_15_cp,\n",
    "    voxel_size)\n",
    "\n",
    "result_fast = execute_fast_global_registration(source_down, target_down,\n",
    "                                               source_fpfh, target_fpfh,\n",
    "                                               voxel_size)\n",
    "print(\"Fast global registration took %.3f sec.\\n\" % (time.time() - start))\n",
    "print(result_fast)\n",
    "result_fast.transformation\n",
    "draw_registration_result(source, target, result_fast.transformation)"
   ],
   "metadata": {
    "collapsed": false
   }
  },
  {
   "cell_type": "code",
   "execution_count": null,
   "outputs": [],
   "source": [
    "source_fast = copy.deepcopy(source).transform(result_fast.transformation)\n",
    "dif = target.compute_point_cloud_distance(source_fast)"
   ],
   "metadata": {
    "collapsed": false
   }
  },
  {
   "cell_type": "code",
   "execution_count": null,
   "outputs": [],
   "source": [
    "error_fast = []\n",
    "for x in range(len(dif)):\n",
    "    error_fast.append(dif[x])\n",
    "print(len(error_fast))"
   ],
   "metadata": {
    "collapsed": false
   }
  },
  {
   "cell_type": "code",
   "execution_count": null,
   "outputs": [],
   "source": [
    "_ = plt.hist(error_fast, bins=1000)\n",
    "plt.xlabel(\"Error in meters(for 1000 bins)\")\n",
    "plt.ylabel(\"number of cloud point in log 10 scale\")\n",
    "plt.yscale(\"log\")\n",
    "plt.show()"
   ],
   "metadata": {
    "collapsed": false
   }
  },
  {
   "cell_type": "code",
   "execution_count": null,
   "outputs": [],
   "source": [
    "_[0]"
   ],
   "metadata": {
    "collapsed": false
   }
  },
  {
   "cell_type": "code",
   "execution_count": null,
   "outputs": [],
   "source": [
    "min(error_fast), max(error_fast), sum(error_fast)/len(error_fast)"
   ],
   "metadata": {
    "collapsed": false
   }
  },
  {
   "cell_type": "code",
   "execution_count": null,
   "outputs": [],
   "source": [
    "#Registration ICP\n",
    "voxel_size = .1\n",
    "source, target, source_down, target_down, source_fpfh, target_fpfh = prepare_dataset(pcd_14_cp, pcd_15_cp,\n",
    "    voxel_size)\n",
    "treg = o3d.pipelines.registration\n",
    "max_correspondence_distance = 0.1\n",
    "trans_init = np.identity(4)#np.asarray(result.transformation, dtype=np.float64)\n",
    "#mu, sigma = 0, 0.1  # mean and standard deviation\n",
    "loss = o3d.pipelines.registration.TukeyLoss(0.1)\n",
    "estimation = treg.TransformationEstimationPointToPoint(True)\n",
    "# Convergence-Criteria for Vanilla ICP\n",
    "criteria = treg.ICPConvergenceCriteria(relative_fitness=0.0000001,\n",
    "                                       relative_rmse=0.000001,\n",
    "                                       max_iteration=20)\n",
    "# Save iteration wise `fitness`, `inlier_rmse`, etc. to analyse and tune result.\n",
    "save_loss_log = True\n",
    "registration_icp = treg.registration_icp(source, target, max_correspondence_distance,\n",
    "                            trans_init, estimation, criteria)\n",
    "\n",
    "print(\"Inlier Fitness: \", registration_icp.fitness)\n",
    "print(\"Inlier RMSE: \", registration_icp.inlier_rmse)\n",
    "\n",
    "draw_registration_result(source, target, registration_icp.transformation)"
   ],
   "metadata": {
    "collapsed": false
   }
  },
  {
   "cell_type": "code",
   "execution_count": null,
   "outputs": [],
   "source": [
    "source = o3d.t.io.read_point_cloud(\"/home/turin/Desktop/lizard_dataset_curated/2014/pcd14.pcd\")\n",
    "target = o3d.t.io.read_point_cloud(\"/home/turin/Desktop/lizard_dataset_curated/2015/pcd15.pcd\")"
   ],
   "metadata": {
    "collapsed": false
   }
  },
  {
   "cell_type": "code",
   "execution_count": null,
   "outputs": [],
   "source": [
    "source = o3d.t.geometry.PointCloud()\n",
    "target = o3d.t.geometry.PointCloud()\n",
    "source = source.from_legacy(pcd_14_cp)\n",
    "target = target.from_legacy(pcd_15_cp)"
   ],
   "metadata": {
    "collapsed": false
   }
  },
  {
   "cell_type": "code",
   "execution_count": null,
   "outputs": [],
   "source": [
    "init_trans = o3d.core.Tensor(result.transformation)\n",
    "print(init_trans)"
   ],
   "metadata": {
    "collapsed": false
   }
  },
  {
   "cell_type": "code",
   "execution_count": null,
   "outputs": [],
   "source": [
    "treg = o3d.t.pipelines.registration\n",
    "voxel_sizes = o3d.utility.DoubleVector([0.1, 0.08, 0.07])\n",
    "criteria_list = [\n",
    "    treg.ICPConvergenceCriteria(relative_fitness=0.000001,\n",
    "                                relative_rmse=0.000001,\n",
    "                                max_iteration=200),\n",
    "    treg.ICPConvergenceCriteria(0.0000001, 0.0000001, 20),\n",
    "    treg.ICPConvergenceCriteria(0.00000001, 0.00000001, 10)\n",
    "]\n",
    "max_correspondence_distances = o3d.utility.DoubleVector([.7, 0.7, 0.7])\n",
    "estimation = treg.TransformationEstimationPointToPoint(True)\n",
    "\n",
    "# Save iteration wise `fitness`, `inlier_rmse`, etc. to analyse and tune result.\n",
    "callback_after_iteration = lambda loss_log_map : print(\"Iteration Index: {}, Scale Index: {}, Scale Iteration Index: {}, Fitness: {}, Inlier RMSE: {},\".format(\n",
    "    loss_log_map[\"iteration_index\"].item(),\n",
    "    loss_log_map[\"scale_index\"].item(),\n",
    "    loss_log_map[\"scale_iteration_index\"].item(),\n",
    "    loss_log_map[\"fitness\"].item(),\n",
    "    loss_log_map[\"inlier_rmse\"].item()))\n",
    "\n",
    "init_source_to_target = o3d.core.Tensor.eye(4, o3d.core.Dtype.Float32)\n",
    "registration_ms_icp = treg. multi_scale_icp(source, target, voxel_sizes,\n",
    "                                           criteria_list,\n",
    "                                           max_correspondence_distances,init_source_to_target,\n",
    "                                            estimation, callback_after_iteration)\n",
    "\n",
    "print(\"Inlier Fitness: \", registration_ms_icp.fitness)\n",
    "print(\"Inlier RMSE: \", registration_ms_icp.inlier_rmse)\n",
    "draw_registration_result(source, target, registration_ms_icp.transformation)"
   ],
   "metadata": {
    "collapsed": false
   }
  },
  {
   "cell_type": "code",
   "execution_count": null,
   "outputs": [],
   "source": [
    "draw_registration_result(source.to_legacy(), target.to_legacy(), registration_ms_icp.transformation.numpy())"
   ],
   "metadata": {
    "collapsed": false
   }
  },
  {
   "cell_type": "code",
   "execution_count": null,
   "outputs": [],
   "source": [
    "Inlier Fitness:  0.9694830324971911\n",
    "Inlier RMSE:  0.14174411476420193"
   ],
   "metadata": {
    "collapsed": false
   }
  },
  {
   "cell_type": "code",
   "execution_count": null,
   "outputs": [],
   "source": [
    "def draw_registration_result(source, target, transformation):\n",
    "    source_temp = copy.deepcopy(source)\n",
    "    target_temp = copy.deepcopy(target)\n",
    "    source_temp.paint_uniform_color([1, 0.706, 0])\n",
    "    target_temp.paint_uniform_color([0, 0.651, 0.929])\n",
    "    source_temp.transform(transformation)\n",
    "    o3d.visualization.draw_geometries([source_temp, target_temp])\n",
    "source_leg = source.to_legacy()\n",
    "target_leg = target.to_legacy()\n",
    "reg = registration_ms_icp.transformation.numpy()\n",
    "draw_registration_result(source_leg, target_leg, reg)"
   ],
   "metadata": {
    "collapsed": false
   }
  },
  {
   "cell_type": "code",
   "execution_count": null,
   "outputs": [],
   "source": [
    "source_corr = copy.deepcopy(source_leg).transform(reg)"
   ],
   "metadata": {
    "collapsed": false
   }
  },
  {
   "cell_type": "code",
   "execution_count": null,
   "outputs": [],
   "source": [
    "dif = target_leg.compute_point_cloud_distance(source_corr)"
   ],
   "metadata": {
    "collapsed": false
   }
  },
  {
   "cell_type": "code",
   "execution_count": null,
   "outputs": [],
   "source": [
    "dist_error = dif\n",
    "error = []\n",
    "for x in range(len(dist_error)):\n",
    "    error.append(dist_error[x])\n",
    "print(len(error))\n",
    "_ = plt.hist(error, bins=100)\n",
    "plt.xlabel(\"Error in meters(for 100 bins)\")\n",
    "plt.ylabel(\"number of cloud point\")\n",
    "plt.show()"
   ],
   "metadata": {
    "collapsed": false
   }
  },
  {
   "cell_type": "code",
   "execution_count": null,
   "outputs": [],
   "source": [
    "max(error), min(error), sum(error)/len(error), np.log(max(error)),np.log(sum(error)/len(error)) ,np.log(min(error))"
   ],
   "metadata": {
    "collapsed": false
   }
  },
  {
   "cell_type": "code",
   "execution_count": null,
   "outputs": [],
   "source": [
    "_ = plt.hist(error, bins=1000)\n",
    "plt.xlabel(\"Error in meters(for 1000 bins)\")\n",
    "plt.ylabel(\"number of cloud point in Log10 scale\")\n",
    "plt.yscale(\"log\")\n",
    "plt.show()"
   ],
   "metadata": {
    "collapsed": false
   }
  },
  {
   "cell_type": "code",
   "execution_count": null,
   "outputs": [],
   "source": [
    "reg"
   ],
   "metadata": {
    "collapsed": false
   }
  },
  {
   "cell_type": "code",
   "execution_count": null,
   "outputs": [],
   "source": [
    "pcd_14.get_axis_aligned_bounding_box()"
   ],
   "metadata": {
    "collapsed": false
   }
  },
  {
   "cell_type": "code",
   "execution_count": null,
   "outputs": [],
   "source": [
    "1000000*np.log(10)"
   ],
   "metadata": {
    "collapsed": false
   }
  },
  {
   "cell_type": "code",
   "execution_count": null,
   "outputs": [],
   "source": [
    "#\n",
    "#\n",
    "#\n",
    "#\n",
    "#\n",
    "#"
   ],
   "metadata": {
    "collapsed": false
   }
  },
  {
   "cell_type": "code",
   "execution_count": null,
   "outputs": [],
   "source": [
    "#\n",
    "#Alignment using transformation matrix\n",
    "transformation_mat = registration_icp.transformation\n",
    "source_array = np.asarray(source.points)\n",
    "target_array = np.asarray(target.points)\n",
    "transformation_mat, source_array.shape\n",
    "source_temp = np.ones([4,len(source_array)], dtype= np.float64)\n",
    "target_temp = np.ones([4,len(target_array)], dtype= np.float64)\n",
    "for i in range(len(source_array)):\n",
    "    source_temp[0:3,i] = source_array[i,:]\n",
    "for i in range(len(target_array)):\n",
    "    target_temp[0:3,i] = target_array[i,:]\n",
    "new_coord = np.matmul(transformation_mat, source_temp)\n",
    "source_array_transformed = new_coord.T"
   ],
   "metadata": {
    "collapsed": false
   }
  },
  {
   "cell_type": "code",
   "execution_count": null,
   "outputs": [],
   "source": [
    "registration_icp.transformation"
   ],
   "metadata": {
    "collapsed": false
   }
  },
  {
   "cell_type": "code",
   "execution_count": null,
   "outputs": [],
   "source": [
    "#Error(mean root square over x,y,z axis) after alignment\n",
    "error = []\n",
    "for idx in range(len(target_array)):\n",
    "    er = (target_array[idx,0] - source_array_transformed [idx,0])**2 + (target_array[idx,1] - source_array_transformed[idx,1])**2 + (target_array[idx,2] - source_array_transformed[idx,2])**2\n",
    "    er = np.sqrt(er)\n",
    "    error.append(er)\n",
    "error = np.asarray(error)\n",
    "#Error Distribution\n",
    "print(error.min(),error.max())\n",
    "_ = plt.hist(error, bins='auto')\n",
    "plt.show()"
   ],
   "metadata": {
    "collapsed": false
   }
  },
  {
   "cell_type": "code",
   "execution_count": null,
   "outputs": [],
   "source": [
    "oct_tree1 = o3d.geometry.Octree(max_depth=8)\n",
    "oct_tree2 = o3d.geometry.Octree(max_depth=8)\n",
    "source_array = o3d.geometry.PointCloud()\n",
    "source_array.points = o3d.utility.Vector3dVector(np.asarray(source_array_transformed))\n",
    "oct_tree1.convert_from_point_cloud(source_array)\n",
    "oct_tree2.convert_from_point_cloud(target)\n",
    "\n"
   ],
   "metadata": {
    "collapsed": false
   }
  },
  {
   "cell_type": "code",
   "execution_count": null,
   "outputs": [],
   "source": [
    "#Error color mapping and Error visualization\n",
    "def rgb(minimum, maximum, value):\n",
    "    minimum, maximum = float(minimum), float(maximum)\n",
    "    ratio = 2 * (value-minimum) / (maximum - minimum)\n",
    "    b = int(max(0, 255*(1 - ratio)))\n",
    "    r = int(max(0, 255*(ratio - 1)))\n",
    "    g = 255 - b - r\n",
    "    return r, g, b\n",
    "\n",
    "color = np.zeros((1000,3))\n",
    "from time import perf_counter\n",
    "start = perf_counter()\n",
    "for idx in range(1000):\n",
    "    r,g,b = rgb(error.min(), error.max(), error[idx])\n",
    "    color[idx,0] = r\n",
    "    color[idx,1] = g\n",
    "    color[idx,2] = b\n",
    "end = perf_counter()\n",
    "print(end-start)\n",
    "# color = np.zeros((len(source_array_transformed),3))\n",
    "# for idx in range(len(source_array_transformed)):\n",
    "#     r,g,b = rgb(error.min(), error.max(), error[idx])\n",
    "#     color[idx,0] = r\n",
    "#     color[idx,1] = g\n",
    "#     color[idx,2] = b\n",
    "#     print(idx)\n",
    "# print(color.shape)\n",
    "pcd = o3d.geometry.PointCloud()\n",
    "pcd.points = o3d.utility.Vector3dVector(source_array_transformed[:1000,:3])\n",
    "pcd.colors = o3d.utility.Vector3dVector(color)\n",
    "o3d.io.write_point_cloud(\"error.ply\", pcd)\n",
    "pcd_load = o3d.io.read_point_cloud(\"error.ply\")\n",
    "o3d.visualization.draw_geometries([pcd_load])"
   ],
   "metadata": {
    "collapsed": false
   }
  },
  {
   "cell_type": "code",
   "execution_count": null,
   "outputs": [],
   "source": [
    "print(source_array.shape,target_array_transformed)"
   ],
   "metadata": {
    "collapsed": false
   }
  },
  {
   "cell_type": "code",
   "execution_count": null,
   "outputs": [],
   "source": [],
   "metadata": {
    "collapsed": false
   }
  },
  {
   "cell_type": "code",
   "execution_count": 1,
   "outputs": [],
   "source": [
    "import pypdf\n",
    "pypdf."
   ],
   "metadata": {
    "collapsed": false
   }
  },
  {
   "cell_type": "code",
   "execution_count": null,
   "outputs": [],
   "source": [],
   "metadata": {
    "collapsed": false
   }
  }
 ],
 "metadata": {
  "kernelspec": {
   "display_name": "Python 3",
   "language": "python",
   "name": "python3"
  },
  "language_info": {
   "codemirror_mode": {
    "name": "ipython",
    "version": 2
   },
   "file_extension": ".py",
   "mimetype": "text/x-python",
   "name": "python",
   "nbconvert_exporter": "python",
   "pygments_lexer": "ipython2",
   "version": "2.7.6"
  }
 },
 "nbformat": 4,
 "nbformat_minor": 0
}
