{
 "cells": [
  {
   "cell_type": "code",
   "execution_count": 2,
   "metadata": {
    "collapsed": true
   },
   "outputs": [],
   "source": [
    "import numpy as np\n",
    "dataset = [400,500,100,500,200]\n",
    "dataset_class = [\"fast\", \"fast\", \"slow\", \"fast\", \"slow\"]\n",
    "dataset_class = [0, 0, 1, 0, 1]"
   ]
  },
  {
   "cell_type": "code",
   "execution_count": 6,
   "outputs": [],
   "source": [
    "unique = np.unique(dataset_class)\n",
    "for idx in range(len(unique)):\n",
    "    for idy in range(len(dataset_class)):\n",
    "        if unique[idx]==dataset_class[idy]:\n",
    "            dataset_class[idy] = idx"
   ],
   "metadata": {
    "collapsed": false
   }
  },
  {
   "cell_type": "code",
   "execution_count": 8,
   "outputs": [
    {
     "data": {
      "text/plain": "([400, 500, 100, 500, 200], [0, 0, 1, 0, 1])"
     },
     "execution_count": 8,
     "metadata": {},
     "output_type": "execute_result"
    }
   ],
   "source": [
    "dataset, dataset_class"
   ],
   "metadata": {
    "collapsed": false
   }
  },
  {
   "cell_type": "code",
   "execution_count": 20,
   "outputs": [],
   "source": [
    "def model(datset):\n",
    "    prediction =[]\n",
    "    for x in dataset:\n",
    "        if x>400:\n",
    "            output = 0\n",
    "        else:\n",
    "            output = 1\n",
    "        prediction.append(output)\n",
    "    return prediction\n",
    "#INOUT DATA\n",
    "prediction = model(dataset)"
   ],
   "metadata": {
    "collapsed": false
   }
  },
  {
   "cell_type": "code",
   "execution_count": 21,
   "outputs": [
    {
     "data": {
      "text/plain": "[1, 0, 1, 0, 1]"
     },
     "execution_count": 21,
     "metadata": {},
     "output_type": "execute_result"
    }
   ],
   "source": [
    "prediction\n"
   ],
   "metadata": {
    "collapsed": false
   }
  },
  {
   "cell_type": "code",
   "execution_count": 22,
   "outputs": [
    {
     "data": {
      "text/plain": "[0, 0, 1, 0, 1]"
     },
     "execution_count": 22,
     "metadata": {},
     "output_type": "execute_result"
    }
   ],
   "source": [
    "dataset_class"
   ],
   "metadata": {
    "collapsed": false
   }
  },
  {
   "cell_type": "code",
   "execution_count": 25,
   "outputs": [],
   "source": [
    "correct = 0\n",
    "for x in range(len(prediction)):\n",
    "    if dataset_class[x]==prediction[x]:\n",
    "        correct+=1"
   ],
   "metadata": {
    "collapsed": false
   }
  },
  {
   "cell_type": "code",
   "execution_count": 27,
   "outputs": [
    {
     "data": {
      "text/plain": "0.8"
     },
     "execution_count": 27,
     "metadata": {},
     "output_type": "execute_result"
    }
   ],
   "source": [
    "correct/len(prediction)"
   ],
   "metadata": {
    "collapsed": false
   }
  },
  {
   "cell_type": "code",
   "execution_count": null,
   "outputs": [],
   "source": [
    "import numpy as np\n",
    "#Input data speed\n",
    "dataset = [400, 500, 100, 500, 200]\n",
    "#Our class based on if spped more than 200 its fast otherwise slow\n",
    "dataset_class = [\"fast\", \"fast\", \"slow\", \"fast\", \"slow\"]\n",
    "#WE Want class in this form\n",
    "dataset_class = [0, 0, 1, 0, 1]\n",
    "#We now make out string data to int for model\n",
    "unique = np.unique(dataset_class)\n",
    "for idx in range(len(unique)):\n",
    "    for idy in range(len(dataset_class)):\n",
    "        if unique[idx] == dataset_class[idy]:\n",
    "            dataset_class[idy] = idx\n",
    "dataset, dataset_class\n",
    "\n",
    "#Dummy prediction model\n",
    "def model(datset):\n",
    "    prediction = []\n",
    "    for x in dataset:\n",
    "        if x > 400:\n",
    "            output = 0\n",
    "        else:\n",
    "            output = 1\n",
    "        prediction.append(output)\n",
    "    return prediction\n",
    "\n",
    "#INOUT DATA and model prediction\n",
    "prediction = model(dataset)\n",
    "#Calculating accuracy if prediction an dataclass value same we get correct model prediction and increase count value\n",
    "correct = 0\n",
    "for x in range(len(prediction)):\n",
    "    if dataset_class[x] == prediction[x]:\n",
    "        correct += 1\n",
    "correct / len(prediction)"
   ],
   "metadata": {
    "collapsed": false
   }
  }
 ],
 "metadata": {
  "kernelspec": {
   "display_name": "Python 3",
   "language": "python",
   "name": "python3"
  },
  "language_info": {
   "codemirror_mode": {
    "name": "ipython",
    "version": 2
   },
   "file_extension": ".py",
   "mimetype": "text/x-python",
   "name": "python",
   "nbconvert_exporter": "python",
   "pygments_lexer": "ipython2",
   "version": "2.7.6"
  }
 },
 "nbformat": 4,
 "nbformat_minor": 0
}
