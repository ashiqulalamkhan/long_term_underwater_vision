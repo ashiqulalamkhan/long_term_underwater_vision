{
 "cells": [
  {
   "cell_type": "code",
   "execution_count": 41,
   "metadata": {
    "collapsed": true
   },
   "outputs": [],
   "source": [
    "global var\n",
    "var = []\n",
    "import time\n",
    "import threading\n",
    "class MyThread(threading.Thread):\n",
    "    def __init__(self, arg1):\n",
    "        self.arg1 = arg1\n",
    "        threading.Thread.__init__(self)\n",
    "    def run(self):\n",
    "        for x in range(len(self.arg1)):\n",
    "            var.append(x)\n",
    "        time.sleep(3)\n"
   ]
  },
  {
   "cell_type": "code",
   "execution_count": 42,
   "outputs": [
    {
     "name": "stdout",
     "output_type": "stream",
     "text": [
      "0.014810323715209961\n"
     ]
    }
   ],
   "source": [
    "import numpy as np\n",
    "start = time.time()\n",
    "argx = np.random.rand(1600,1500)\n",
    "threads = []\n",
    "lim = 0\n",
    "step = 100\n",
    "for x in range(16):\n",
    "    threads.append(MyThread(argx[lim:lim+step,:]))\n",
    "    threads[x].start()\n",
    "    lim=lim+step\n",
    "end = time.time()\n",
    "print(end-start)"
   ],
   "metadata": {
    "collapsed": false
   }
  },
  {
   "cell_type": "code",
   "execution_count": 43,
   "outputs": [
    {
     "data": {
      "text/plain": "1600"
     },
     "execution_count": 43,
     "metadata": {},
     "output_type": "execute_result"
    }
   ],
   "source": [
    "len(var)"
   ],
   "metadata": {
    "collapsed": false
   }
  },
  {
   "cell_type": "code",
   "execution_count": null,
   "outputs": [],
   "source": [
    "global camera14_set\n",
    "camera14_set = []\n",
    "##ARG\n",
    "self.camera_ref14 = camera_ref14\n",
    "self.desc_points = desc_points\n",
    "for idx in range(len(camera_ref14.camera_dict)):\n",
    "    global camera14_set\n",
    "    start = time.time()\n",
    "    camera14 = camera.Camera(camera_ref14.camera_dict[idx], camera_ref14.local2global, shift=shift)\n",
    "    point2d = desc_points[camera14.camera_id][\"2D\"]\n",
    "    point3d = desc_points[camera14.camera_id][\"3D\"]\n",
    "    new_point3d= []\n",
    "    end = time.time()\n",
    "    print(str(end-start))\n",
    "    for pts in point3d:\n",
    "        xyz14 = np.hstack([np.asarray(pts), 1.0])\n",
    "        xyz14global = camera_ref14.local2global @ xyz14\n",
    "        ####LOCAL TO GLOBAL\n",
    "        xyz_crs4978 = xyz14global\n",
    "        crs4978 = CRS.from_epsg(4978)\n",
    "        crs32755 = CRS.from_epsg(32755)\n",
    "        proj = Transformer.from_crs(crs4978, crs32755)\n",
    "        xyz_crs4978[0,:3] = proj.transform(xyz_crs4978[0,0], xyz_crs4978[0,1], xyz_crs4978[0,2])\n",
    "        xyz_crs4978 = np.asarray(xyz_crs4978).squeeze()\n",
    "        xyz_crs4978[0] -= shift[0]\n",
    "        xyz_crs4978[1] -= shift[1]\n",
    "        xyz_crs4978[2] -= shift[2]\n",
    "        xyz_transformed = transform@xyz_crs4978\n",
    "        new_point3d.append(xyz_transformed)\n",
    "    desc_points[camera14.camera_id][\"3D\"] = new_point3d\n",
    "    camera14_set.append([camera14.get_camera_set(), desc_points[camera14.camera_id]])"
   ],
   "metadata": {
    "collapsed": false
   }
  },
  {
   "cell_type": "code",
   "execution_count": null,
   "outputs": [],
   "source": [
    "global camera14_set\n",
    "camera14_set = []\n",
    "import time\n",
    "import threading\n",
    "\n",
    "class MyThread(threading.Thread):\n",
    "    def __init__(self, camera_ref14, desc.points, start, end, transform, shift):\n",
    "        self.camera_ref14 = camera_ref14\n",
    "        self.desc_points = desc_points\n",
    "        self.start = start\n",
    "        self.end = end\n",
    "        self.transform = transform\n",
    "        self.shift = shift\n",
    "        threading.Thread.__init__(self)\n",
    "\n",
    "    def run(self):\n",
    "        for idx in range(start, end, 1):\n",
    "            global camera14_set\n",
    "            start = time.time()\n",
    "            camera14 = camera.Camera(camera_ref14.camera_dict[idx], camera_ref14.local2global, shift=shift)\n",
    "            point2d = desc_points[camera14.camera_id][\"2D\"]\n",
    "            point3d = desc_points[camera14.camera_id][\"3D\"]\n",
    "            new_point3d= []\n",
    "            end = time.time()\n",
    "            print(str(end-start))\n",
    "            for pts in point3d:\n",
    "                xyz14 = np.hstack([np.asarray(pts), 1.0])\n",
    "                xyz14global = camera_ref14.local2global @ xyz14\n",
    "                ####LOCAL TO GLOBAL\n",
    "                xyz_crs4978 = xyz14global\n",
    "                crs4978 = CRS.from_epsg(4978)\n",
    "                crs32755 = CRS.from_epsg(32755)\n",
    "                proj = Transformer.from_crs(crs4978, crs32755)\n",
    "                xyz_crs4978[0,:3] = proj.transform(xyz_crs4978[0,0], xyz_crs4978[0,1], xyz_crs4978[0,2])\n",
    "                xyz_crs4978 = np.asarray(xyz_crs4978).squeeze()\n",
    "                xyz_crs4978[0] -= shift[0]\n",
    "                xyz_crs4978[1] -= shift[1]\n",
    "                xyz_crs4978[2] -= shift[2]\n",
    "                xyz_transformed = transform@xyz_crs4978\n",
    "                new_point3d.append(xyz_transformed)\n",
    "            desc_points[camera14.camera_id][\"3D\"] = new_point3d\n",
    "            camera14_set.append([camera14.get_camera_set(), desc_points[camera14.camera_id]])\n",
    "        return ca"
   ],
   "metadata": {
    "collapsed": false
   }
  },
  {
   "cell_type": "code",
   "execution_count": 80,
   "outputs": [
    {
     "name": "stdout",
     "output_type": "stream",
     "text": [
      "startstartstart\n",
      "\n",
      "\n",
      "end\n",
      "end\n",
      "end\n",
      "9.070863145003386\n"
     ]
    }
   ],
   "source": [
    "import time\n",
    "import multiprocessing\n",
    "import concurrent.futures\n",
    "start = time.perf_counter()\n",
    "\n",
    "def example(seconds, sec2):\n",
    "    print(\"start\")\n",
    "    time.sleep(seconds+sec2)\n",
    "    print(\"end\")\n",
    "    return seconds+sec2\n",
    "\n",
    "final_result = []\n",
    "with concurrent.futures.ProcessPoolExecutor() as executor:\n",
    "    #f1 = executor.submit(example, 1,1)\n",
    "    #res.append(f1.result())\n",
    "    secs = [(5,4),(3,2),(1,0)]\n",
    "    results = [executor.submit(example, sec1, sec2) for sec1, sec2 in secs]\n",
    "    for result in results:\n",
    "        final_result.append(result.result())\n",
    "################\n",
    "# processes = []\n",
    "# for idx in range(8):\n",
    "#     p = multiprocessing.Process(target=example, args=[1.5,-1])\n",
    "#     p.start()\n",
    "#     processes.append(p)\n",
    "# for process in processes:\n",
    "#     process.join()\n",
    "finish = time.perf_counter()\n",
    "print(finish-start)"
   ],
   "metadata": {
    "collapsed": false
   }
  },
  {
   "cell_type": "code",
   "execution_count": 81,
   "outputs": [
    {
     "data": {
      "text/plain": "[9, 5, 1]"
     },
     "execution_count": 81,
     "metadata": {},
     "output_type": "execute_result"
    }
   ],
   "source": [
    "final_result"
   ],
   "metadata": {
    "collapsed": false
   }
  }
 ],
 "metadata": {
  "kernelspec": {
   "display_name": "Python 3",
   "language": "python",
   "name": "python3"
  },
  "language_info": {
   "codemirror_mode": {
    "name": "ipython",
    "version": 2
   },
   "file_extension": ".py",
   "mimetype": "text/x-python",
   "name": "python",
   "nbconvert_exporter": "python",
   "pygments_lexer": "ipython2",
   "version": "2.7.6"
  }
 },
 "nbformat": 4,
 "nbformat_minor": 0
}
