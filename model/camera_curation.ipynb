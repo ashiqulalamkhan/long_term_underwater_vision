{
 "cells": [
  {
   "cell_type": "code",
   "execution_count": 27,
   "metadata": {
    "collapsed": true
   },
   "outputs": [],
   "source": [
    "import numpy as np\n",
    "import xml.etree.ElementTree as ET\n",
    "import pyproj"
   ]
  },
  {
   "cell_type": "code",
   "execution_count": 28,
   "outputs": [],
   "source": [
    "def mat2r_t(mat1, mat2):\n",
    "    U, S, Vt = np.linalg.svd(np.dot(mat2.T, mat1))\n",
    "    R = np.dot(U, Vt)\n",
    "    if np.linalg.det(R) < 0:\n",
    "        R[:, 2] *= -1\n",
    "    org = np.dot(np.linalg.inv(mat2),mat1)\n",
    "    t = org[:3,3]/np.linalg.norm(org[:3,3])\n",
    "    return R, t"
   ],
   "metadata": {
    "collapsed": false
   }
  },
  {
   "cell_type": "code",
   "execution_count": 50,
   "outputs": [],
   "source": [
    "class CameraRef:\n",
    "    def __init__(self, camera_xml, calib_xml_opencv):\n",
    "        \"\"\"Input takes:\n",
    "        1. camera_xml file from: metashape->File->Export->Export Cameras\n",
    "        2. calib_xml file from: metashape->Tools->Camera Calibration->Adjusted->Save As(OpenCv Format)\n",
    "        \"\"\"\n",
    "        self.root = ET.parse(camera_xml).getroot()\n",
    "        self.camera_xml = camera_xml\n",
    "        self.calib_xml_opencv = calib_xml_opencv\n",
    "        self.camera_calibration_mat = self.get_camera_calib()\n",
    "        self.camera_calibration_mat_opencv = self.get_camera_calib_opencv()\n",
    "        self.camera_dict = self.get_cam_dict()\n",
    "        self.local2global = self.get_local2global_matrix()\n",
    "\n",
    "    def get_local2global_matrix(self):\n",
    "        root = self.root\n",
    "        rotation = np.matrix(root[0][3][0].text).reshape(3,3)\n",
    "        translation = np.matrix(root[0][3][1].text).reshape(1,3)\n",
    "        scale = float(root[0][3][2].text)\n",
    "        rt = np.vstack([np.hstack([scale*rotation,translation.T]),[0,0,0,1]])\n",
    "        return rt\n",
    "\n",
    "    def get_cam_dict(self):\n",
    "        root = self.root\n",
    "        camera = []\n",
    "        for cam in root.iter(\"camera\"):\n",
    "            camera_id = int(list(cam.attrib.values())[0])\n",
    "            img_id = list(cam.attrib.values())[-1]\n",
    "            #print(camera_id, img_id)\n",
    "            for item in cam.iter(\"transform\"):\n",
    "                val = np.matrix(item.text)\n",
    "                transform_mat = np.reshape(val, (4,4))\n",
    "                #print(transform_mat)\n",
    "            for item in cam.iter(\"reference\"):\n",
    "                ref = item.attrib\n",
    "                #print(ref)\n",
    "            camera_dict = {\"image_id\" : img_id,\n",
    "                                \"transform_mat\" : transform_mat,\n",
    "                                \"reference\" : ref}\n",
    "            camera.append(camera_dict)\n",
    "        return camera\n",
    "\n",
    "    def get_camera_calib(self):\n",
    "        root = self.root\n",
    "        camera_intrinsics = []\n",
    "        y = []\n",
    "        for node in root.iter(\"calibration\"):\n",
    "            x = list(node.attrib.values())\n",
    "            if (x[1]==\"adjusted\"):\n",
    "                for node2 in node.iter():\n",
    "                    camera_intrinsics.append(node2.text)\n",
    "                    y.append(list(node2.attrib.values()))\n",
    "        camera_intrinsics = list(map(float,camera_intrinsics[2:]))\n",
    "        width, height = list(map(float,y[1]))\n",
    "        camera_intrinsics_dict = {\"width\":width,\n",
    "                                  \"height\":height,\n",
    "                                  \"f\":camera_intrinsics[0],\n",
    "                                  \"cx\":camera_intrinsics[1],\n",
    "                                  \"cy\":camera_intrinsics[2],\n",
    "                                  \"b1\":camera_intrinsics[3],\n",
    "                                  \"b2\":camera_intrinsics[4],\n",
    "                                  \"k1\":camera_intrinsics[5],\n",
    "                                  \"k2\":camera_intrinsics[6],\n",
    "                                  \"k3\":camera_intrinsics[7],\n",
    "                                  \"k4\":camera_intrinsics[8],\n",
    "                                  \"p1\":camera_intrinsics[9],\n",
    "                                  \"p2\":camera_intrinsics[10]}\n",
    "        return camera_intrinsics_dict\n",
    "    def get_camera_calib_opencv(self):\n",
    "        tree = ET.parse(self.calib_xml_opencv)\n",
    "        root = tree.getroot()\n",
    "        for x in  root.iter(\"Camera_Matrix\"):\n",
    "            for y in x.iter(\"data\"):\n",
    "                camera_mat = np.matrix(y.text)\n",
    "        for x in  root.iter(\"Distortion_Coefficients\"):\n",
    "            for y in x.iter(\"data\"):\n",
    "                distort_mat = np.matrix(y.text)\n",
    "        camera_mat = np.asarray(camera_mat.reshape((3,3)))\n",
    "        distort_mat = np.asarray(distort_mat)\n",
    "        #print(camera_mat, distort_mat)\n",
    "        return [camera_mat, distort_mat]\n",
    "class Camera:\n",
    "    \"\"\"\n",
    "    Camera class inputs:\n",
    "    1. Camera Dict\n",
    "    2. local2global transformation mat from CameraRef Class\n",
    "    In stores:\n",
    "    1. Camera Id/Image name\n",
    "    2. Pose matrix in internal metashape coord\n",
    "    3. reference on global coord\n",
    "    4. method for Pose in global coord\n",
    "    \"\"\"\n",
    "    def __init__(self, camera_dict, local2global):\n",
    "        self.camera_id = camera_dict[\"image_id\"]\n",
    "        self.pose = camera_dict[\"transform_mat\"]\n",
    "        self.reference = camera_dict[\"reference\"]\n",
    "        self.local2global_transmat =local2global\n",
    "\n",
    "    def get_global_pose(self):\n",
    "        posecrs4978 = self.local2global_transmat*self.pose\n",
    "        crs4978 = CRS.from_epsg(4978)\n",
    "        crs32755 = CRS.from_epsg(32755)\n",
    "        proj = Transformer.from_crs(crs4978, crs32755)\n",
    "        posecrs4978[0,3], posecrs4978[1,3], posecrs4978[2,3] = proj.transform(posecrs4978[0,3], posecrs4978[1,3], posecrs4978[2,3])\n",
    "        posecrs32755 = posecrs4978\n",
    "        return posecrs32755"
   ],
   "metadata": {
    "collapsed": false
   }
  },
  {
   "cell_type": "code",
   "execution_count": 51,
   "outputs": [
    {
     "data": {
      "text/plain": "matrix([[-2.59752374e-02, -5.60338363e-03,  5.55976310e-02,\n          3.32448523e+05],\n        [-2.98213292e-02, -5.04599522e-02, -1.90181228e-02,\n          8.37565686e+06],\n        [ 4.72565637e-02, -3.49228115e-02,  1.85586064e-02,\n          9.49451431e-01],\n        [ 0.00000000e+00,  0.00000000e+00,  0.00000000e+00,\n          1.00000000e+00]])"
     },
     "execution_count": 51,
     "metadata": {},
     "output_type": "execute_result"
    }
   ],
   "source": [
    "x = CameraRef(\"/home/turin/Desktop/lizard_dataset_curated/2014/cam14.xml\",\"/home/turin/Desktop/lizard_dataset_curated/opencv_cam_calib.xml\" )\n",
    "rt =x.local2global\n",
    "cam1 = Camera(x.camera_dict[0], rt)\n",
    "cam1pose = cam1.get_global_pose()\n",
    "cam1pose\n",
    "# #crs = CRS.from_epsg(4326)\n",
    "# crs4978 = CRS.from_epsg(4978)\n",
    "# crs32755 = CRS.from_epsg(32755)\n",
    "# proj = Transformer.from_crs(crs4978, crs32755)\n",
    "# wgs32755 = proj.transform(cam1pose[0,3], cam1pose[1,3], cam1pose[2,3])\n",
    "# wgs32755"
   ],
   "metadata": {
    "collapsed": false
   }
  },
  {
   "cell_type": "code",
   "execution_count": 33,
   "outputs": [
    {
     "ename": "TypeError",
     "evalue": "transform() missing 1 required positional argument: 'yy'",
     "output_type": "error",
     "traceback": [
      "\u001B[0;31m---------------------------------------------------------------------------\u001B[0m",
      "\u001B[0;31mTypeError\u001B[0m                                 Traceback (most recent call last)",
      "Cell \u001B[0;32mIn[33], line 6\u001B[0m\n\u001B[1;32m      4\u001B[0m crs2 \u001B[38;5;241m=\u001B[39m CRS\u001B[38;5;241m.\u001B[39mfrom_epsg(\u001B[38;5;241m4326\u001B[39m)\n\u001B[1;32m      5\u001B[0m proj \u001B[38;5;241m=\u001B[39m Transformer\u001B[38;5;241m.\u001B[39mfrom_crs(crs, crs\u001B[38;5;241m.\u001B[39mgeodetic_crs)\n\u001B[0;32m----> 6\u001B[0m \u001B[43mproj\u001B[49m\u001B[38;5;241;43m.\u001B[39;49m\u001B[43mtransform\u001B[49m\u001B[43m(\u001B[49m\u001B[43mcam1pose\u001B[49m\u001B[43m[\u001B[49m\u001B[43m:\u001B[49m\u001B[38;5;241;43m3\u001B[39;49m\u001B[43m,\u001B[49m\u001B[38;5;241;43m3\u001B[39;49m\u001B[43m]\u001B[49m\u001B[38;5;241;43m.\u001B[39;49m\u001B[43mT\u001B[49m\u001B[43m)\u001B[49m\n",
      "\u001B[0;31mTypeError\u001B[0m: transform() missing 1 required positional argument: 'yy'"
     ]
    }
   ],
   "source": [
    "from pyproj import CRS\n",
    "from pyproj import Transformer\n",
    "crs = CRS.from_epsg(32755)\n",
    "crs2 = CRS.from_epsg(4326)\n",
    "proj = Transformer.from_crs(crs, crs.geodetic_crs)\n",
    "proj.transform(cam1pose[:3,3].T)"
   ],
   "metadata": {
    "collapsed": false
   }
  },
  {
   "cell_type": "code",
   "execution_count": 44,
   "outputs": [
    {
     "data": {
      "text/plain": "3500298.0164774703"
     },
     "execution_count": 44,
     "metadata": {},
     "output_type": "execute_result"
    }
   ],
   "source": [
    "cam1pose[1,3]"
   ],
   "metadata": {
    "collapsed": false
   }
  },
  {
   "cell_type": "code",
   "execution_count": 46,
   "outputs": [
    {
     "data": {
      "text/plain": "(332448.52323560254, 8375656.862874637, 0.9494514325633645)"
     },
     "execution_count": 46,
     "metadata": {},
     "output_type": "execute_result"
    }
   ],
   "source": [
    "wgs32755"
   ],
   "metadata": {
    "collapsed": false
   }
  },
  {
   "cell_type": "code",
   "execution_count": null,
   "outputs": [],
   "source": [],
   "metadata": {
    "collapsed": false
   }
  }
 ],
 "metadata": {
  "kernelspec": {
   "display_name": "Python 3",
   "language": "python",
   "name": "python3"
  },
  "language_info": {
   "codemirror_mode": {
    "name": "ipython",
    "version": 2
   },
   "file_extension": ".py",
   "mimetype": "text/x-python",
   "name": "python",
   "nbconvert_exporter": "python",
   "pygments_lexer": "ipython2",
   "version": "2.7.6"
  }
 },
 "nbformat": 4,
 "nbformat_minor": 0
}
