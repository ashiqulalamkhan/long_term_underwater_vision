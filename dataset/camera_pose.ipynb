{
 "cells": [
  {
   "cell_type": "code",
   "execution_count": 10,
   "outputs": [],
   "source": [
    "import matplotlib.pyplot as plt\n",
    "import numpy as np\n",
    "import xml.etree.ElementTree as ET\n",
    "import pickle\n",
    "\n",
    "import torch.utils.data"
   ],
   "metadata": {
    "collapsed": false
   }
  },
  {
   "cell_type": "code",
   "execution_count": 11,
   "outputs": [],
   "source": [
    "#CAMERA INTRINSICS FROM METASHAPE xml FILE\n",
    "def get_cam_intrinsics(root):\n",
    "    camera_intrinsics = []\n",
    "    y = []\n",
    "    for node in root.iter(\"calibration\"):\n",
    "        x = list(node.attrib.values())\n",
    "        if (x[1]==\"adjusted\"):\n",
    "            for node2 in node.iter():\n",
    "                camera_intrinsics.append(node2.text)\n",
    "                y.append(list(node2.attrib.values()))\n",
    "    camera_intrinsics = list(map(float,camera_intrinsics[2:]))\n",
    "    width, height = list(map(float,y[1]))\n",
    "    camera_intrinsics_dict = {\"width\":width,\n",
    "                              \"height\":height,\n",
    "                              \"f\":camera_intrinsics[0],\n",
    "                              \"cx\":camera_intrinsics[1],\n",
    "                              \"cy\":camera_intrinsics[2],\n",
    "                              \"b1\":camera_intrinsics[3],\n",
    "                              \"b2\":camera_intrinsics[4],\n",
    "                              \"k1\":camera_intrinsics[5],\n",
    "                              \"k2\":camera_intrinsics[6],\n",
    "                              \"k3\":camera_intrinsics[7],\n",
    "                              \"k4\":camera_intrinsics[8],\n",
    "                              \"p1\":camera_intrinsics[9],\n",
    "                              \"p2\":camera_intrinsics[10]}\n",
    "    return camera_intrinsics_dict"
   ],
   "metadata": {
    "collapsed": false
   }
  },
  {
   "cell_type": "code",
   "execution_count": 12,
   "outputs": [],
   "source": [
    "#CAMERA POSE PER IMAGE ID\n",
    "def get_cam_pose(root):\n",
    "    camera = []\n",
    "    for cam in root.iter(\"camera\"):\n",
    "        camera_id = int(list(cam.attrib.values())[0])\n",
    "        img_id = list(cam.attrib.values())[-1]\n",
    "        #print(camera_id, img_id)\n",
    "        for item in cam.iter(\"transform\"):\n",
    "            val = np.matrix(item.text)\n",
    "            transform_mat = np.reshape(val, (4,4))\n",
    "            #print(transform_mat)\n",
    "        for item in cam.iter(\"reference\"):\n",
    "            ref = item.attrib\n",
    "            #print(ref)\n",
    "        camera_dict = {\"image_id\" : img_id,\n",
    "                            \"transform_mat\" : transform_mat,\n",
    "                            \"reference\" : ref}\n",
    "        camera.append(camera_dict)\n",
    "    return camera"
   ],
   "metadata": {
    "collapsed": false
   }
  },
  {
   "cell_type": "code",
   "execution_count": 9,
   "outputs": [
    {
     "name": "stderr",
     "output_type": "stream",
     "text": [
      "/tmp/ipykernel_9681/2506574221.py:23: VisibleDeprecationWarning: Creating an ndarray from ragged nested sequences (which is a list-or-tuple of lists-or-tuples-or ndarrays with different lengths or shapes) is deprecated. If you meant to do this, you must specify 'dtype=object' when creating the ndarray.\n",
      "  pose = np.asarray(pose)\n"
     ]
    }
   ],
   "source": [
    "file = \"/home/turin/Desktop/lizard_dataset_curated/2014/cam14.xml\"\n",
    "tree = ET.parse(file)\n",
    "root = tree.getroot()\n",
    "camera_intrinsics = get_cam_intrinsics(root)\n",
    "# file = open('/home/turin/Documents/GitHub/long_term_underwater_vision/dataset/camera_itrs', 'wb')\n",
    "# pickle.dump(camera_intrinsics, file)\n",
    "# file.close()\n",
    "camera_pose = get_cam_pose(root)\n",
    "pose = []\n",
    "cam_id = []\n",
    "cam_pose = []\n",
    "for idx in range (len(camera_pose)):\n",
    "    cam_ref = [0,0,0,0,0,0]\n",
    "    cam_id = camera_pose[idx][\"image_id\"]\n",
    "    cam_pose = camera_pose[idx][\"transform_mat\"]\n",
    "    cam_ref[0] = float(camera_pose[idx][\"reference\"][\"x\"])-332400\n",
    "    cam_ref[1] = float(camera_pose[idx][\"reference\"][\"y\"])-8375600\n",
    "    cam_ref[2] = float(camera_pose[idx][\"reference\"][\"z\"])\n",
    "    cam_ref[3] = float(camera_pose[idx][\"reference\"][\"yaw\"])\n",
    "    cam_ref[4] = float(camera_pose[idx][\"reference\"][\"pitch\"])\n",
    "    cam_ref[5] = float(camera_pose[idx][\"reference\"][\"roll\"])\n",
    "    pose.append([cam_id, cam_pose, cam_ref])\n",
    "pose = np.asarray(pose)\n",
    "file = open('image_id', 'wb')\n",
    "pickle.dump(pose, file)\n",
    "file.close()"
   ],
   "metadata": {
    "collapsed": false
   }
  },
  {
   "cell_type": "code",
   "execution_count": 13,
   "outputs": [],
   "source": [
    "#BASED ON REFERENCE\n",
    "# var = open(\"image_id\", 'rb')\n",
    "# v = pickle.load(var)\n",
    "v = pose\n",
    "thres = .37\n",
    "neg_thres = 2\n",
    "dict_group = {}\n",
    "for idx in range(len(v)):\n",
    "    group = []\n",
    "    neg_group = []\n",
    "    for idy in range(len(v)):\n",
    "        mat1 = v[idx][2]\n",
    "        mat2 = v[idy][2]\n",
    "        if mat1[0]-thres<mat2[0]<mat1[0]+thres and mat1[1]-thres<mat2[1]<mat1[1]+thres: #and mat1[2]-thres<mat2[2]<mat1[2]+thres:\n",
    "            group.append(v[idy])\n",
    "        if (mat2[0] < mat1[0]-neg_thres or mat2[0]>mat1[0]+neg_thres) and (mat2[1] < mat1[1]-neg_thres or mat2[1]>mat1[1]+neg_thres):\n",
    "            neg_group.append(v[idy])\n",
    "    # print(len(group))\n",
    "    # print(len(neg_group))\n",
    "    if len(neg_group)>2:\n",
    "        neg_group_reduced = neg_group[:len(group)]\n",
    "    dict_group[v[idx][0]] = [group, neg_group_reduced]\n",
    "# file = open('camera_group', 'wb')\n",
    "# pickle.dump(dict_group, file)\n",
    "# file.close"
   ],
   "metadata": {
    "collapsed": false
   }
  },
  {
   "cell_type": "code",
   "execution_count": 6,
   "outputs": [],
   "source": [
    "#BASED ON TRANSFORMATION MAT\n",
    "# var = open(\"image_id\", 'rb')\n",
    "# v = pickle.load(var)\n",
    "# thres = 2\n",
    "# neg_thres = 60\n",
    "# dict_group = {}\n",
    "# for idx in range(len(v)):\n",
    "#     group = []\n",
    "#     neg_group = []\n",
    "#     for idy in range(len(v)):\n",
    "#         mat1 = v[idx][1]\n",
    "#         mat2 = v[idy][1]\n",
    "#         if mat1[0,3]-thres<mat2[0,3]<mat1[0,3]+thres and mat1[1,3]-thres<mat2[1,3]<mat1[1,3]+thres and mat1[2,3]-thres<mat2[2,3]<mat1[2,3]+thres:\n",
    "#             group.append(v[idy])\n",
    "#         if (mat2[0,3] < mat1[0,3]-neg_thres or mat2[0,3]>mat1[0,3]+neg_thres) and (mat2[1,3] < mat1[1,3]-neg_thres or mat2[1,3]>mat1[1,3]+neg_thres):\n",
    "#             neg_group.append(v[idy])\n",
    "#     if len(neg_group)>2:\n",
    "#         neg_group_reduced = neg_group[:len(group)]\n",
    "#     dict_group[v[idx][0]] = [group, neg_group_reduced]\n",
    "# file = open('camera_group', 'wb')\n",
    "# pickle.dump(dict_group, file)\n",
    "# file.close"
   ],
   "metadata": {
    "collapsed": false
   }
  },
  {
   "cell_type": "code",
   "execution_count": 21,
   "outputs": [
    {
     "data": {
      "text/plain": "array([[-8.94745577e-01,  2.42987917e-01,  2.66707894e-02,\n         7.81576422e+01],\n       [-2.43542169e-01, -8.94811458e-01, -1.79936861e-02,\n         1.21915754e+02],\n       [ 2.10159686e-02, -2.43604764e-02,  9.26978426e-01,\n         1.39741412e+00],\n       [ 0.00000000e+00,  0.00000000e+00,  0.00000000e+00,\n         1.00000000e+00]])"
     },
     "execution_count": 21,
     "metadata": {},
     "output_type": "execute_result"
    }
   ],
   "source": [
    "trans_mat = np.asarray([[-8.94745577e-01,  2.42987917e-01,  2.66707894e-02,  7.81576422e+01],\n",
    " [-2.43542169e-01, -8.94811458e-01, -1.79936861e-02,  1.21915754e+02],\n",
    " [ 2.10159686e-02, -2.43604764e-02,  9.26978426e-01,  1.39741412e+00],\n",
    " [ 0.00000000e+00,  0.00000000e+00,  0.00000000e+00,  1.00000000e+00]])\n",
    "trans_mat"
   ],
   "metadata": {
    "collapsed": false
   }
  },
  {
   "cell_type": "code",
   "execution_count": 7,
   "outputs": [
    {
     "ename": "FileExistsError",
     "evalue": "[Errno 17] File exists: '/home/turin/Desktop/lizard_dataset_curated/dataset_group/PR_20141102_075303_103_LC16'",
     "output_type": "error",
     "traceback": [
      "\u001B[0;31m---------------------------------------------------------------------------\u001B[0m",
      "\u001B[0;31mFileExistsError\u001B[0m                           Traceback (most recent call last)",
      "Cell \u001B[0;32mIn[7], line 10\u001B[0m\n\u001B[1;32m      8\u001B[0m \u001B[38;5;28;01mfor\u001B[39;00m idx \u001B[38;5;129;01min\u001B[39;00m (os\u001B[38;5;241m.\u001B[39mlistdir(path)):\n\u001B[1;32m      9\u001B[0m     new_path \u001B[38;5;241m=\u001B[39m \u001B[38;5;124m\"\u001B[39m\u001B[38;5;124m/home/turin/Desktop/lizard_dataset_curated/dataset_group/\u001B[39m\u001B[38;5;124m\"\u001B[39m \u001B[38;5;241m+\u001B[39m idx[:\u001B[38;5;241m-\u001B[39m\u001B[38;5;241m4\u001B[39m]\n\u001B[0;32m---> 10\u001B[0m     \u001B[43mos\u001B[49m\u001B[38;5;241;43m.\u001B[39;49m\u001B[43mmkdir\u001B[49m\u001B[43m(\u001B[49m\u001B[43mnew_path\u001B[49m\u001B[43m)\u001B[49m\n\u001B[1;32m     11\u001B[0m     \u001B[38;5;28;01mfor\u001B[39;00m idy \u001B[38;5;129;01min\u001B[39;00m camera_group[idx][\u001B[38;5;241m0\u001B[39m]:\n\u001B[1;32m     12\u001B[0m         \u001B[38;5;66;03m#print(idy[0])\u001B[39;00m\n\u001B[1;32m     13\u001B[0m         org_path \u001B[38;5;241m=\u001B[39m path \u001B[38;5;241m+\u001B[39m idy[\u001B[38;5;241m0\u001B[39m]\n",
      "\u001B[0;31mFileExistsError\u001B[0m: [Errno 17] File exists: '/home/turin/Desktop/lizard_dataset_curated/dataset_group/PR_20141102_075303_103_LC16'"
     ]
    }
   ],
   "source": [
    "import os\n",
    "import shutil\n",
    "# file1 = open('camera_group', 'rb')\n",
    "# camera_group = pickle.load(file1)\n",
    "# file1.close\n",
    "camera_group = dict_group\n",
    "path = \"/home/turin/Desktop/lizard_jackson/chronological/2014/r20141102_074952_lizard_d2_081_horseshoe_circle01/081_photos/\"\n",
    "for idx in (os.listdir(path)):\n",
    "    new_path = \"/home/turin/Desktop/lizard_dataset_curated/dataset_group/\" + idx[:-4]\n",
    "    os.mkdir(new_path)\n",
    "    for idy in camera_group[idx][0]:\n",
    "        #print(idy[0])\n",
    "        org_path = path + idy[0]\n",
    "        shutil.copy(org_path,new_path)\n"
   ],
   "metadata": {
    "collapsed": false
   }
  },
  {
   "cell_type": "code",
   "execution_count": 8,
   "outputs": [],
   "source": [
    "x = list(camera_group.keys())\n",
    "for idx in x:\n",
    "    #print(camera_group[idx][0])\n",
    "    for idy in range(1,len(camera_group[idx][0])):\n",
    "        #print(camera_group[idx][idy])\n",
    "        if camera_group[idx][0][0][1][0,3]==camera_group[idx][0][idy][1][0,3]:\n",
    "            print(\"Wrong Grouping: Duplicate Transform mat detected at \", idx)"
   ],
   "metadata": {
    "collapsed": false
   }
  },
  {
   "cell_type": "code",
   "execution_count": 9,
   "outputs": [],
   "source": [
    "data_pos = []\n",
    "data_neg = []\n",
    "label_pos = []\n",
    "label_neg = []\n",
    "x = list(camera_group.keys())\n",
    "xx = 0\n",
    "org_dict = {}\n",
    "for idx in range(len(v)):\n",
    "    org_dict[v[idx][0]] = v[idx][1]\n",
    "for idx in x:\n",
    "    for idy in range(0,len(camera_group[idx][0])):\n",
    "        im_p1 = idx\n",
    "        im_p2 = camera_group[idx][0][idy][0]\n",
    "        if im_p1!=im_p2:\n",
    "            #print(im_p1, im_p2)\n",
    "            data_pos.append([im_p1, im_p2])\n",
    "            label_pos.append([1,[org_dict[im_p1], org_dict[im_p2]]])\n",
    "    for idn in range(0,len(camera_group[idx][1])):\n",
    "        im_n1 = idx\n",
    "        im_n2 = camera_group[idx][1][idn][0]\n",
    "        if im_n1!=im_n2:\n",
    "            #print(im_p1, im_p2)\n",
    "            data_neg.append([im_n1, im_n2])\n",
    "            label_neg.append([0,[org_dict[im_n1], org_dict[im_n2]]])"
   ],
   "metadata": {
    "collapsed": false
   }
  },
  {
   "cell_type": "code",
   "execution_count": 10,
   "outputs": [],
   "source": [
    "#Testing if every group is legit:\n",
    "var = open(\"image_id\", 'rb')\n",
    "v = pickle.load(var)\n",
    "good = 0\n",
    "for itr in range(len(data_pos)):\n",
    "    im1 = data_pos[itr][0]\n",
    "    im2 = data_pos[itr][1]\n",
    "    if (label_pos[itr][1][0] == org_dict[im1]).all() and (label_pos[itr][1][1] == org_dict[im2]).all():\n",
    "        good+=1\n",
    "    else:\n",
    "        print(\"Problem found at \", itr)\n",
    "        break\n",
    "dataset_positive = (data_pos, label_pos)\n",
    "dataset_negative = (data_neg, label_neg)"
   ],
   "metadata": {
    "collapsed": false
   }
  },
  {
   "cell_type": "code",
   "execution_count": 11,
   "outputs": [
    {
     "data": {
      "text/plain": "<function BufferedWriter.close>"
     },
     "execution_count": 11,
     "metadata": {},
     "output_type": "execute_result"
    }
   ],
   "source": [
    "file = open('/home/turin/Documents/GitHub/long_term_underwater_vision/dataset/dataset_positive', 'wb')\n",
    "pickle.dump(dataset_positive,file)\n",
    "file.close\n",
    "file1 = open('/home/turin/Documents/GitHub/long_term_underwater_vision/dataset/dataset_negative', 'wb')\n",
    "pickle.dump(dataset_negative,file1)\n",
    "file1.close"
   ],
   "metadata": {
    "collapsed": false
   }
  },
  {
   "cell_type": "code",
   "execution_count": 12,
   "outputs": [],
   "source": [
    "plot3d = []\n",
    "colors = []\n",
    "clr_init = 0\n",
    "for idx in range(len(x)):\n",
    "    plot3d.append(camera_group[x[idx]][0][0][2][:3])\n",
    "    colors.append([idx/1600,1.0-(idx/1600),.1])\n",
    "plot3d = np.asarray(plot3d)"
   ],
   "metadata": {
    "collapsed": false
   }
  },
  {
   "cell_type": "code",
   "execution_count": 13,
   "outputs": [
    {
     "data": {
      "text/plain": "<Figure size 200x200 with 1 Axes>",
      "image/png": "[encoded data removed]"
     },
     "metadata": {},
     "output_type": "display_data"
    }
   ],
   "source": [
    "plt.style.use('_mpl-gallery')\n",
    "xs = plot3d[:,0]\n",
    "ys = plot3d[:,1]\n",
    "zs = plot3d[:,2]\n",
    "z = np.zeros(1600)\n",
    "rgb = np.asarray([.5,.8,.1])\n",
    "\n",
    "fig, ax = plt.subplots(subplot_kw={\"projection\": \"3d\"})\n",
    "ax.scatter(xs, ys, z, s=1, c=colors, alpha=0.5)\n",
    "# ax.set_xlabel('x dist', fontsize = 5)\n",
    "# ax.set_ylabel(\"y dist\", fontsize = 5)\n",
    "# ax.set_zlabel(\"z dist\", fontsize = 5)\n",
    "plt.savefig(\"camera_area_depth zero.png\", bbox_inches=\"tight\", dpi = 600,)\n",
    "plt.show()\n"
   ],
   "metadata": {
    "collapsed": false
   }
  },
  {
   "cell_type": "code",
   "execution_count": 19,
   "outputs": [],
   "source": [
    "import numpy as np\n",
    "x = np.asarray([[ 0.93188237,  0.00785442,  0.02757995,  1.27660544],\n",
    "       [-0.00684264,  0.93167355, -0.03412714,  3.52793686],\n",
    "       [-0.02784823,  0.03390857,  0.93129038,  0.49316502],\n",
    "       [ 0.0      ,  0.0        ,  0.0        ,  1.0        ]])\n",
    "y = np.asarray([[9.53340733e-01, 2.97331996e-03, 2.74878773e-02,\n",
    "          4.56269403e-01],\n",
    "         [-1.97374551e-03, 9.53110160e-01, -3.46425247e-02,\n",
    "          2.11840944e+00],\n",
    "         [-2.75776787e-02, 3.45710798e-02, 9.52715744e-01,\n",
    "          5.16001960e-01],\n",
    "         [0.00000000e+00, 0.00000000e+00, 0.00000000e+00,\n",
    "          1.00000000e+00]])"
   ],
   "metadata": {
    "collapsed": false
   }
  },
  {
   "cell_type": "code",
   "execution_count": 23,
   "outputs": [],
   "source": [
    "o = np.asarray([[35],[21],[20],[1]])\n",
    "z1 = x@o\n",
    "z2 = y@o\n",
    "z3 = xx@o"
   ],
   "metadata": {
    "collapsed": false
   }
  },
  {
   "cell_type": "code",
   "execution_count": 24,
   "outputs": [
    {
     "data": {
      "text/plain": "(array([[34.60903021],\n        [22.17104621],\n        [18.85636454],\n        [ 1.        ]]),\n array([[34.43539232],\n        [21.37179121],\n        [19.33109076],\n        [ 1.        ]]),\n array([[35.25573584],\n        [21.64871634],\n        [18.96728347],\n        [ 1.        ]]))"
     },
     "execution_count": 24,
     "metadata": {},
     "output_type": "execute_result"
    }
   ],
   "source": [
    "z1, z2, z3"
   ],
   "metadata": {
    "collapsed": false
   }
  },
  {
   "cell_type": "code",
   "execution_count": 16,
   "outputs": [],
   "source": [
    "xx = np.asarray([[ 0.93772987, -0.01210513,  0.02776278,  2.13414252],\n",
    "       [ 0.01311187,  0.93750722, -0.03410151,  2.18417947],\n",
    "       [-0.02730174,  0.03447173,  0.93718778,  0.45518244],\n",
    "       [ 0.0        ,  0.0       ,  0.0    ,  1.0       ]])"
   ],
   "metadata": {
    "collapsed": false
   }
  },
  {
   "cell_type": "code",
   "execution_count": 56,
   "outputs": [
    {
     "data": {
      "text/plain": "array([[ 4.86764809e-01,  8.01246090e-01, -3.63227125e-02,\n         1.77256769e+01],\n       [ 8.02038355e-01, -4.85875627e-01,  3.02320001e-02,\n        -9.20311025e+00],\n       [ 7.00790609e-03, -4.67354558e-02, -9.37027911e-01,\n         2.17429367e+00],\n       [ 0.00000000e+00,  0.00000000e+00,  0.00000000e+00,\n         1.00000000e+00]])"
     },
     "execution_count": 56,
     "metadata": {},
     "output_type": "execute_result"
    }
   ],
   "source": [],
   "metadata": {
    "collapsed": false
   }
  },
  {
   "cell_type": "code",
   "execution_count": 25,
   "outputs": [],
   "source": [
    "pose15 = np.asarray([[0.5302770289722869, 0.8477747187138337, -0.0091814407368312548, 16.386626980418566],\n",
    "[0.84778421767412615, -0.53032626049101128, -0.0039972110639367071, -12.275019923118222],\n",
    "[-0.0082578936172523227, -0.0056642513450363315, -0.99994986046786694, 2.7631984562853029],\n",
    "[0, 0, 0, 1]])\n",
    "pose14 = np.asarray([[-0.65139319963707099, -0.58034927219014221, -0.48875517566052562, 39.75346352937386],\n",
    "[-0.74991551536435463, 0.59040702134285827, 0.29840621468874901, 73.732333876832513],\n",
    "[0.11538465791600556, 0.56090486842014964, -0.8198000422665157, 6.6105576304039673],\n",
    "[0, 0, 0, 1]])"
   ],
   "metadata": {
    "collapsed": false
   }
  },
  {
   "cell_type": "code",
   "execution_count": 27,
   "outputs": [
    {
     "data": {
      "text/plain": "array([[ 5.30277029e-01,  8.47774719e-01, -9.18144074e-03,\n         1.63866270e+01],\n       [ 8.47784218e-01, -5.30326260e-01, -3.99721106e-03,\n        -1.22750199e+01],\n       [-8.25789362e-03, -5.66425135e-03, -9.99949860e-01,\n         2.76319846e+00],\n       [ 0.00000000e+00,  0.00000000e+00,  0.00000000e+00,\n         1.00000000e+00]])"
     },
     "execution_count": 27,
     "metadata": {},
     "output_type": "execute_result"
    }
   ],
   "source": [
    "pose15"
   ],
   "metadata": {
    "collapsed": false
   }
  },
  {
   "cell_type": "code",
   "execution_count": 29,
   "outputs": [
    {
     "data": {
      "text/plain": "array([[-0.6513932 , -0.58034927, -0.48875518, 39.75346353],\n       [-0.74991552,  0.59040702,  0.29840621, 73.73233388],\n       [ 0.11538466,  0.56090487, -0.81980004,  6.61055763],\n       [ 0.        ,  0.        ,  0.        ,  1.        ]])"
     },
     "execution_count": 29,
     "metadata": {},
     "output_type": "execute_result"
    }
   ],
   "source": [
    "pose14"
   ],
   "metadata": {
    "collapsed": false
   }
  },
  {
   "cell_type": "code",
   "execution_count": 58,
   "outputs": [],
   "source": [
    "T_15 = np.asarray([[ 0.99904286, -0.02327897,  0.01335992, -2.31141424],\n",
    "       [ 0.02303996,  0.99897982,  0.01776278, -3.777615  ],\n",
    "       [-0.01376801, -0.01744838,  0.99915616,  2.01930503],\n",
    "       [ 0.        ,  0.        ,  0.        ,  1.        ]])"
   ],
   "metadata": {
    "collapsed": false
   }
  },
  {
   "cell_type": "code",
   "execution_count": 60,
   "outputs": [
    {
     "data": {
      "text/plain": "array([[ 5.09923611e-01,  8.59233055e-01, -2.24388520e-02,\n         1.43821944e+01],\n       [ 8.58990204e-01, -5.10353149e-01, -2.19665626e-02,\n        -1.56134829e+01],\n       [-3.03442459e-02, -8.07830831e-03, -9.98909908e-01,\n         4.76873976e+00],\n       [ 0.00000000e+00,  0.00000000e+00,  0.00000000e+00,\n         1.00000000e+00]])"
     },
     "execution_count": 60,
     "metadata": {},
     "output_type": "execute_result"
    }
   ],
   "source": [
    "T_15@pose15"
   ],
   "metadata": {
    "collapsed": false
   }
  },
  {
   "cell_type": "code",
   "execution_count": 62,
   "outputs": [],
   "source": [
    "pose16 = np.asarray([[-0.41616004116347205, -0.90882606977528857, 0.029085993804902746, 47.782573247656842], [-0.90928792008564874, 0.41585720723909958, -0.016070518772315294, 53.539965489118728], [0.0025096862616126991, -0.033135450564289286, -0.99944771918833741, -19.583115213540619], [0, 0, 0, 1]])"
   ],
   "metadata": {
    "collapsed": false
   }
  },
  {
   "cell_type": "code",
   "execution_count": 63,
   "outputs": [
    {
     "data": {
      "text/plain": "array([[-3.94560902e-01, -9.18079610e-01,  1.60797180e-02,\n         4.39174403e+01],\n       [-9.17904014e-01,  3.93905064e-01, -3.31369538e-02,\n         5.04607881e+01],\n       [ 2.41028653e-02, -2.78507977e-02, -9.98724397e-01,\n        -1.91393418e+01],\n       [ 0.00000000e+00,  0.00000000e+00,  0.00000000e+00,\n         1.00000000e+00]])"
     },
     "execution_count": 63,
     "metadata": {},
     "output_type": "execute_result"
    }
   ],
   "source": [
    "T_15@pose16\n"
   ],
   "metadata": {
    "collapsed": false
   }
  },
  {
   "cell_type": "code",
   "execution_count": 68,
   "outputs": [
    {
     "data": {
      "text/plain": "(array([137156.35125821]), array([8374771.78619482]))"
     },
     "execution_count": 68,
     "metadata": {},
     "output_type": "execute_result"
    }
   ],
   "source": [
    "t_16 = np.asarray([[332453.61859232711] , [8375660.5285418546], [-0.081532698000000001], [1]])\n",
    "result = T_15@t_16\n",
    "result[0], result[1]"
   ],
   "metadata": {
    "collapsed": false
   }
  },
  {
   "cell_type": "code",
   "execution_count": null,
   "outputs": [],
   "source": [],
   "metadata": {
    "collapsed": false
   }
  }
 ],
 "metadata": {
  "kernelspec": {
   "display_name": "Python 3",
   "language": "python",
   "name": "python3"
  },
  "language_info": {
   "codemirror_mode": {
    "name": "ipython",
    "version": 2
   },
   "file_extension": ".py",
   "mimetype": "text/x-python",
   "name": "python",
   "nbconvert_exporter": "python",
   "pygments_lexer": "ipython2",
   "version": "2.7.6"
  }
 },
 "nbformat": 4,
 "nbformat_minor": 0
}
