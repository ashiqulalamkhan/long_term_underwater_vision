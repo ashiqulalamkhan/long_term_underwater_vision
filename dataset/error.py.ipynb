{
 "cells": [
  {
   "cell_type": "code",
   "execution_count": 2,
   "metadata": {
    "collapsed": true
   },
   "outputs": [
    {
     "name": "stdout",
     "output_type": "stream",
     "text": [
      "Jupyter environment detected. Enabling Open3D WebVisualizer.\n",
      "[Open3D INFO] WebRTC GUI backend enabled.\n",
      "[Open3D INFO] WebRTCWindowSystem: HTTP handshake server disabled.\n"
     ]
    }
   ],
   "source": [
    "import cupy as cp\n",
    "import numpy as np\n",
    "import copy\n",
    "import time\n",
    "import matplotlib.pyplot as plt\n",
    "import open3d as o3d\n",
    "pcd_14 = o3d.io.read_point_cloud(\"/home/turin/Desktop/lizard_dataset_curated/2014/pcd14.pcd\")\n",
    "pcd_15 = o3d.io.read_point_cloud(\"/home/turin/Desktop/lizard_dataset_curated/2015/pcd15.pcd\")\n",
    "src_cp = copy.deepcopy(pcd_15)\n",
    "trg_cp = copy.deepcopy(pcd_14)"
   ]
  },
  {
   "cell_type": "code",
   "execution_count": 3,
   "outputs": [
    {
     "name": "stdout",
     "output_type": "stream",
     "text": [
      ":: Load two point clouds with initial pose.\n",
      ":: Downsample with a voxel size 0.100.\n",
      ":: Estimate normal with search radius 0.200.\n",
      ":: Compute FPFH feature with search radius 0.300.\n",
      ":: Downsample with a voxel size 0.100.\n",
      ":: Estimate normal with search radius 0.200.\n",
      ":: Compute FPFH feature with search radius 0.300.\n",
      ":: Apply fast global registration with distance threshold 0.150\n",
      "Fast global registration took 63.749 sec.\n",
      "\n",
      "RegistrationResult with fitness=6.072631e-01, inlier_rmse=8.447069e-02, and correspondence_set size of 35183\n",
      "Access transformation to get result.\n"
     ]
    }
   ],
   "source": [
    "def draw_registration_result(source, target, transformation):\n",
    "    source_temp = copy.deepcopy(source)\n",
    "    target_temp = copy.deepcopy(target)\n",
    "    source_temp.paint_uniform_color([1, 0.706, 0])\n",
    "    target_temp.paint_uniform_color([0, 0.651, 0.929])\n",
    "    source_temp.transform(transformation)\n",
    "    o3d.visualization.draw_geometries([source_temp, target_temp])\n",
    "\n",
    "def preprocess_point_cloud(pcd, voxel_size):\n",
    "    print(\":: Downsample with a voxel size %.3f.\" % voxel_size)\n",
    "    pcd_down = pcd.voxel_down_sample(voxel_size)\n",
    "\n",
    "    radius_normal = voxel_size * 2\n",
    "    print(\":: Estimate normal with search radius %.3f.\" % radius_normal)\n",
    "    pcd_down.estimate_normals(\n",
    "        o3d.geometry.KDTreeSearchParamHybrid(radius=radius_normal, max_nn=30))\n",
    "\n",
    "    radius_feature = voxel_size * 3\n",
    "    print(\":: Compute FPFH feature with search radius %.3f.\" % radius_feature)\n",
    "    pcd_fpfh = o3d.pipelines.registration.compute_fpfh_feature(\n",
    "        pcd_down,\n",
    "        o3d.geometry.KDTreeSearchParamHybrid(radius=radius_feature, max_nn=100))\n",
    "    return pcd_down, pcd_fpfh\n",
    "\n",
    "def prepare_dataset(source, target, voxel_size):\n",
    "    print(\":: Load two point clouds with initial pose.\")\n",
    "    # trans_init = np.asarray([[1.0, 0.0, 0.0, 0.0], [0.0, 1.0, 0.0, 0.0],\n",
    "    #                          [0.0, 0.0, 1.0, 0.0], [0.0, 0.0, 0.0, 1.0]])\n",
    "    # source.transform(trans_init)\n",
    "    draw_registration_result(source, target, np.identity(4))\n",
    "\n",
    "    source_down, source_fpfh = preprocess_point_cloud(source, voxel_size)\n",
    "    target_down, target_fpfh = preprocess_point_cloud(target, voxel_size)\n",
    "    return source, target, source_down, target_down, source_fpfh, target_fpfh\n",
    "\n",
    "def execute_fast_global_registration(source_down, target_down, source_fpfh,\n",
    "                                     target_fpfh, voxel_size):\n",
    "    distance_threshold = voxel_size * 1.5\n",
    "    print(\":: Apply fast global registration with distance threshold %.3f\" \\\n",
    "            % distance_threshold)\n",
    "    result = o3d.pipelines.registration.registration_fgr_based_on_feature_matching(\n",
    "        source_down, target_down, source_fpfh, target_fpfh,\n",
    "        o3d.pipelines.registration.FastGlobalRegistrationOption(\n",
    "            maximum_correspondence_distance=distance_threshold))\n",
    "    return result\n",
    "\n",
    "#FAST GLOBAL TRANSFORMATION\n",
    "start = time.time()\n",
    "voxel_size = 0.1  # 0.05 means 5cm for this dataset\n",
    "source, target, source_down, target_down, source_fpfh, target_fpfh = prepare_dataset(src_cp, trg_cp,\n",
    "    voxel_size)\n",
    "\n",
    "result_fast = execute_fast_global_registration(source_down, target_down,\n",
    "                                               source_fpfh, target_fpfh,\n",
    "                                               voxel_size)\n",
    "print(\"Fast global registration took %.3f sec.\\n\" % (time.time() - start))\n",
    "print(result_fast)\n",
    "src_cp.transform(result_fast.transformation)\n",
    "draw_registration_result(pcd_15, pcd_14, result_fast.transformation)"
   ],
   "metadata": {
    "collapsed": false
   }
  },
  {
   "cell_type": "code",
   "execution_count": 4,
   "outputs": [],
   "source": [
    "src_col = copy.deepcopy(src_cp)\n",
    "dist_error = src_cp.compute_point_cloud_distance(trg_cp)\n",
    "# error = []\n",
    "# for x in range(len(dist_error)):\n",
    "#     error.append(dist_error[x])\n",
    "error = np.asarray(dist_error)"
   ],
   "metadata": {
    "collapsed": false
   }
  },
  {
   "cell_type": "code",
   "execution_count": 26,
   "outputs": [
    {
     "data": {
      "text/plain": "(1531838, 0.0, 1.7892995304529669)"
     },
     "execution_count": 26,
     "metadata": {},
     "output_type": "execute_result"
    }
   ],
   "source": [
    "e = error\n",
    "mask = e<0.05\n",
    "e[mask] = 0\n",
    "np.count_nonzero(e), e.min(), e.max()"
   ],
   "metadata": {
    "collapsed": false
   }
  },
  {
   "cell_type": "code",
   "execution_count": 27,
   "outputs": [
    {
     "name": "stdout",
     "output_type": "stream",
     "text": [
      "(42312642,)\n"
     ]
    }
   ],
   "source": [
    "def rgb(minimum, maximum, value):\n",
    "    #minimum, maximum = float(minimum), float(maximum)\n",
    "    ratio = (value-minimum) / (maximum - minimum)\n",
    "    print(ratio.shape)\n",
    "    r = 1-np.int32(1*ratio)\n",
    "    b = 0+r*0.000001\n",
    "    mask = e==0\n",
    "    g = e*0\n",
    "    g[mask] = .9\n",
    "    return r, g, b\n",
    "r,g,b = rgb(error.min(), e.max(), e)"
   ],
   "metadata": {
    "collapsed": false
   }
  },
  {
   "cell_type": "code",
   "execution_count": 29,
   "outputs": [],
   "source": [
    "col = np.asarray([r,g,b], dtype=np.float32)\n",
    "col = col.T\n",
    "src_col.colors = o3d.pybind.utility.Vector3dVector(col)\n",
    "o3d.visualization.draw_geometries([src_col, pcd_14])"
   ],
   "metadata": {
    "collapsed": false
   }
  },
  {
   "cell_type": "code",
   "execution_count": 38,
   "outputs": [],
   "source": [
    "o3d.visualization.draw_geometries([src_col])"
   ],
   "metadata": {
    "collapsed": false
   }
  },
  {
   "cell_type": "code",
   "execution_count": null,
   "outputs": [],
   "source": [],
   "metadata": {
    "collapsed": false
   }
  }
 ],
 "metadata": {
  "kernelspec": {
   "display_name": "Python 3",
   "language": "python",
   "name": "python3"
  },
  "language_info": {
   "codemirror_mode": {
    "name": "ipython",
    "version": 2
   },
   "file_extension": ".py",
   "mimetype": "text/x-python",
   "name": "python",
   "nbconvert_exporter": "python",
   "pygments_lexer": "ipython2",
   "version": "2.7.6"
  }
 },
 "nbformat": 4,
 "nbformat_minor": 0
}
